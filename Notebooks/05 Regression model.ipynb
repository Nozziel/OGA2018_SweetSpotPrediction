{
 "cells": [
  {
   "cell_type": "code",
   "execution_count": 11,
   "metadata": {},
   "outputs": [],
   "source": [
    "%matplotlib inline\n",
    "\n",
    "import pandas as pd\n",
    "import numpy as np\n",
    "from sklearn.model_selection import train_test_split\n",
    "from sklearn.preprocessing import StandardScaler\n",
    "from sklearn import tree\n",
    "\n",
    "import SweetSpotPrediction as ssp"
   ]
  },
  {
   "cell_type": "markdown",
   "metadata": {},
   "source": [
    "# 05 Regression model\n",
    "one of the better models from step 03 can here be tuned\n",
    "*Note: Run 01 to build the .csv files needed*"
   ]
  },
  {
   "cell_type": "code",
   "execution_count": 12,
   "metadata": {},
   "outputs": [],
   "source": [
    "df = pd.read_csv('RegressionData.csv')"
   ]
  },
  {
   "cell_type": "code",
   "execution_count": 13,
   "metadata": {},
   "outputs": [
    {
     "data": {
      "text/html": [
       "<div>\n",
       "<style scoped>\n",
       "    .dataframe tbody tr th:only-of-type {\n",
       "        vertical-align: middle;\n",
       "    }\n",
       "\n",
       "    .dataframe tbody tr th {\n",
       "        vertical-align: top;\n",
       "    }\n",
       "\n",
       "    .dataframe thead th {\n",
       "        text-align: right;\n",
       "    }\n",
       "</style>\n",
       "<table border=\"1\" class=\"dataframe\">\n",
       "  <thead>\n",
       "    <tr style=\"text-align: right;\">\n",
       "      <th></th>\n",
       "      <th>Unnamed: 0</th>\n",
       "      <th>XPos</th>\n",
       "      <th>YPos</th>\n",
       "      <th>Thickness</th>\n",
       "      <th>AvgNTG</th>\n",
       "      <th>AvgPerm</th>\n",
       "      <th>AvgPoro</th>\n",
       "      <th>NetPerm</th>\n",
       "      <th>WellProbability</th>\n",
       "      <th>SweetSpot</th>\n",
       "    </tr>\n",
       "  </thead>\n",
       "  <tbody>\n",
       "    <tr>\n",
       "      <th>0</th>\n",
       "      <td>172</td>\n",
       "      <td>452050.0</td>\n",
       "      <td>6780950.0</td>\n",
       "      <td>2.535993</td>\n",
       "      <td>0.487495</td>\n",
       "      <td>522.118372</td>\n",
       "      <td>0.161892</td>\n",
       "      <td>1316.895444</td>\n",
       "      <td>0.019169</td>\n",
       "      <td>1</td>\n",
       "    </tr>\n",
       "    <tr>\n",
       "      <th>1</th>\n",
       "      <td>173</td>\n",
       "      <td>452050.0</td>\n",
       "      <td>6781000.0</td>\n",
       "      <td>5.272397</td>\n",
       "      <td>0.505895</td>\n",
       "      <td>672.209589</td>\n",
       "      <td>0.158925</td>\n",
       "      <td>2556.454528</td>\n",
       "      <td>0.019195</td>\n",
       "      <td>1</td>\n",
       "    </tr>\n",
       "    <tr>\n",
       "      <th>2</th>\n",
       "      <td>174</td>\n",
       "      <td>452050.0</td>\n",
       "      <td>6781050.0</td>\n",
       "      <td>5.555539</td>\n",
       "      <td>0.607166</td>\n",
       "      <td>708.849096</td>\n",
       "      <td>0.166871</td>\n",
       "      <td>3012.225791</td>\n",
       "      <td>0.019208</td>\n",
       "      <td>0</td>\n",
       "    </tr>\n",
       "    <tr>\n",
       "      <th>3</th>\n",
       "      <td>175</td>\n",
       "      <td>452050.0</td>\n",
       "      <td>6781100.0</td>\n",
       "      <td>4.928132</td>\n",
       "      <td>0.740983</td>\n",
       "      <td>605.196035</td>\n",
       "      <td>0.160425</td>\n",
       "      <td>2504.174453</td>\n",
       "      <td>0.019209</td>\n",
       "      <td>0</td>\n",
       "    </tr>\n",
       "    <tr>\n",
       "      <th>4</th>\n",
       "      <td>176</td>\n",
       "      <td>452050.0</td>\n",
       "      <td>6781150.0</td>\n",
       "      <td>4.036606</td>\n",
       "      <td>0.799833</td>\n",
       "      <td>319.160790</td>\n",
       "      <td>0.141114</td>\n",
       "      <td>1195.540589</td>\n",
       "      <td>0.019207</td>\n",
       "      <td>0</td>\n",
       "    </tr>\n",
       "  </tbody>\n",
       "</table>\n",
       "</div>"
      ],
      "text/plain": [
       "   Unnamed: 0      XPos       YPos  Thickness    AvgNTG     AvgPerm   AvgPoro  \\\n",
       "0         172  452050.0  6780950.0   2.535993  0.487495  522.118372  0.161892   \n",
       "1         173  452050.0  6781000.0   5.272397  0.505895  672.209589  0.158925   \n",
       "2         174  452050.0  6781050.0   5.555539  0.607166  708.849096  0.166871   \n",
       "3         175  452050.0  6781100.0   4.928132  0.740983  605.196035  0.160425   \n",
       "4         176  452050.0  6781150.0   4.036606  0.799833  319.160790  0.141114   \n",
       "\n",
       "       NetPerm  WellProbability  SweetSpot  \n",
       "0  1316.895444         0.019169          1  \n",
       "1  2556.454528         0.019195          1  \n",
       "2  3012.225791         0.019208          0  \n",
       "3  2504.174453         0.019209          0  \n",
       "4  1195.540589         0.019207          0  "
      ]
     },
     "execution_count": 13,
     "metadata": {},
     "output_type": "execute_result"
    }
   ],
   "source": [
    "features = [\n",
    "    #'XPos', # propbably dont want these as features\n",
    "    #'YPos', # propbably dont want these as features\n",
    "    'Thickness',\n",
    "    'AvgNTG',\n",
    "    'AvgPerm',\n",
    "    'AvgPoro',\n",
    "    'NetPerm',\n",
    "\n",
    "]\n",
    "\n",
    "label_reg = 'WellProbability'\n",
    "df.head()"
   ]
  },
  {
   "cell_type": "code",
   "execution_count": 14,
   "metadata": {},
   "outputs": [],
   "source": [
    "df.dropna(inplace=True)"
   ]
  },
  {
   "cell_type": "code",
   "execution_count": 15,
   "metadata": {},
   "outputs": [
    {
     "data": {
      "text/plain": [
       "array([0.11296081, 0.172832  , 0.12385109, ..., 0.06960437, 0.0317261 ,\n",
       "       0.05867141])"
      ]
     },
     "execution_count": 15,
     "metadata": {},
     "output_type": "execute_result"
    }
   ],
   "source": [
    "X_train, X_, y_train, y_ = train_test_split(df[features], df[label_reg].values, test_size=0.33, random_state=42)\n",
    "X_val, X_test, y_val, y_test = train_test_split(X_, y_, test_size=0.50, random_state=42)\n",
    "y_train"
   ]
  },
  {
   "cell_type": "code",
   "execution_count": 16,
   "metadata": {},
   "outputs": [],
   "source": [
    "# Normalization and other preprocessing"
   ]
  },
  {
   "cell_type": "code",
   "execution_count": 17,
   "metadata": {},
   "outputs": [],
   "source": [
    "preprocessing = StandardScaler()\n",
    "X_train = preprocessing.fit_transform(X_train)\n",
    "X_test = preprocessing.transform(X_test)\n",
    "X_val = preprocessing.transform(X_val)"
   ]
  },
  {
   "cell_type": "code",
   "execution_count": 18,
   "metadata": {},
   "outputs": [],
   "source": [
    "from sklearn import svm"
   ]
  },
  {
   "cell_type": "code",
   "execution_count": 19,
   "metadata": {},
   "outputs": [],
   "source": [
    "reg = svm.SVR()"
   ]
  },
  {
   "cell_type": "code",
   "execution_count": 20,
   "metadata": {},
   "outputs": [
    {
     "data": {
      "text/plain": [
       "'\\nreg.fit(X_train, y_train)\\ny_pred_val = reg.predict(X_val)\\n    \\nscore = r2_score(y_val, y_pred_val, multioutput=\\'variance_weighted\\') \\nprint(f\"Accuracy: {score:.2f}\")\\n'"
      ]
     },
     "execution_count": 20,
     "metadata": {},
     "output_type": "execute_result"
    }
   ],
   "source": [
    "\"\"\"\n",
    "reg.fit(X_train, y_train)\n",
    "y_pred_val = reg.predict(X_val)\n",
    "    \n",
    "score = r2_score(y_val, y_pred_val, multioutput='variance_weighted') \n",
    "print(f\"Accuracy: {score:.2f}\")\n",
    "\"\"\""
   ]
  },
  {
   "cell_type": "code",
   "execution_count": null,
   "metadata": {},
   "outputs": [],
   "source": []
  },
  {
   "cell_type": "code",
   "execution_count": null,
   "metadata": {},
   "outputs": [],
   "source": []
  },
  {
   "cell_type": "code",
   "execution_count": null,
   "metadata": {},
   "outputs": [],
   "source": []
  },
  {
   "cell_type": "code",
   "execution_count": null,
   "metadata": {},
   "outputs": [],
   "source": []
  },
  {
   "cell_type": "code",
   "execution_count": null,
   "metadata": {},
   "outputs": [],
   "source": []
  },
  {
   "cell_type": "code",
   "execution_count": null,
   "metadata": {},
   "outputs": [],
   "source": []
  }
 ],
 "metadata": {
  "kernelspec": {
   "display_name": "Python 3",
   "language": "python",
   "name": "python3"
  },
  "language_info": {
   "codemirror_mode": {
    "name": "ipython",
    "version": 3
   },
   "file_extension": ".py",
   "mimetype": "text/x-python",
   "name": "python",
   "nbconvert_exporter": "python",
   "pygments_lexer": "ipython3",
   "version": "3.7.1"
  }
 },
 "nbformat": 4,
 "nbformat_minor": 2
}
