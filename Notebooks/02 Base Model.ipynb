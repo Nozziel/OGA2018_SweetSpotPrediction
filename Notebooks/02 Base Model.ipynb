{
 "cells": [
  {
   "cell_type": "code",
   "execution_count": 13,
   "metadata": {},
   "outputs": [],
   "source": [
    "%matplotlib inline\n",
    "\n",
    "import pandas as pd\n",
    "import numpy as np\n",
    "from sklearn.model_selection import train_test_split\n",
    "from sklearn import tree\n",
    "\n",
    "import SweetSpotPrediction as ssp"
   ]
  },
  {
   "cell_type": "markdown",
   "metadata": {},
   "source": [
    "# 02 Base model\n",
    "A simiple model to help understand the data (and help with feature engineering in 01)\n",
    "\n",
    "*Note: Run 01 to build the .csv files needed*"
   ]
  },
  {
   "cell_type": "code",
   "execution_count": 14,
   "metadata": {
    "scrolled": true
   },
   "outputs": [
    {
     "data": {
      "text/html": [
       "<div>\n",
       "<style scoped>\n",
       "    .dataframe tbody tr th:only-of-type {\n",
       "        vertical-align: middle;\n",
       "    }\n",
       "\n",
       "    .dataframe tbody tr th {\n",
       "        vertical-align: top;\n",
       "    }\n",
       "\n",
       "    .dataframe thead th {\n",
       "        text-align: right;\n",
       "    }\n",
       "</style>\n",
       "<table border=\"1\" class=\"dataframe\">\n",
       "  <thead>\n",
       "    <tr style=\"text-align: right;\">\n",
       "      <th></th>\n",
       "      <th>Unnamed: 0</th>\n",
       "      <th>XPos</th>\n",
       "      <th>YPos</th>\n",
       "      <th>Thickness</th>\n",
       "      <th>AvgNTG</th>\n",
       "      <th>AvgPerm</th>\n",
       "      <th>AvgPoro</th>\n",
       "      <th>NetPerm</th>\n",
       "      <th>SweetSpot</th>\n",
       "      <th>WellPresent</th>\n",
       "    </tr>\n",
       "  </thead>\n",
       "  <tbody>\n",
       "    <tr>\n",
       "      <th>0</th>\n",
       "      <td>172</td>\n",
       "      <td>452050.0</td>\n",
       "      <td>6780950.0</td>\n",
       "      <td>2.535993</td>\n",
       "      <td>0.487495</td>\n",
       "      <td>522.118372</td>\n",
       "      <td>0.161892</td>\n",
       "      <td>1316.895444</td>\n",
       "      <td>1</td>\n",
       "      <td>0</td>\n",
       "    </tr>\n",
       "    <tr>\n",
       "      <th>1</th>\n",
       "      <td>173</td>\n",
       "      <td>452050.0</td>\n",
       "      <td>6781000.0</td>\n",
       "      <td>5.272397</td>\n",
       "      <td>0.505895</td>\n",
       "      <td>672.209589</td>\n",
       "      <td>0.158925</td>\n",
       "      <td>2556.454528</td>\n",
       "      <td>1</td>\n",
       "      <td>0</td>\n",
       "    </tr>\n",
       "    <tr>\n",
       "      <th>2</th>\n",
       "      <td>174</td>\n",
       "      <td>452050.0</td>\n",
       "      <td>6781050.0</td>\n",
       "      <td>5.555539</td>\n",
       "      <td>0.607166</td>\n",
       "      <td>708.849096</td>\n",
       "      <td>0.166871</td>\n",
       "      <td>3012.225791</td>\n",
       "      <td>0</td>\n",
       "      <td>0</td>\n",
       "    </tr>\n",
       "    <tr>\n",
       "      <th>3</th>\n",
       "      <td>175</td>\n",
       "      <td>452050.0</td>\n",
       "      <td>6781100.0</td>\n",
       "      <td>4.928132</td>\n",
       "      <td>0.740983</td>\n",
       "      <td>605.196035</td>\n",
       "      <td>0.160425</td>\n",
       "      <td>2504.174453</td>\n",
       "      <td>0</td>\n",
       "      <td>0</td>\n",
       "    </tr>\n",
       "    <tr>\n",
       "      <th>4</th>\n",
       "      <td>176</td>\n",
       "      <td>452050.0</td>\n",
       "      <td>6781150.0</td>\n",
       "      <td>4.036606</td>\n",
       "      <td>0.799833</td>\n",
       "      <td>319.160790</td>\n",
       "      <td>0.141114</td>\n",
       "      <td>1195.540589</td>\n",
       "      <td>0</td>\n",
       "      <td>0</td>\n",
       "    </tr>\n",
       "  </tbody>\n",
       "</table>\n",
       "</div>"
      ],
      "text/plain": [
       "   Unnamed: 0      XPos       YPos  Thickness    AvgNTG     AvgPerm   AvgPoro  \\\n",
       "0         172  452050.0  6780950.0   2.535993  0.487495  522.118372  0.161892   \n",
       "1         173  452050.0  6781000.0   5.272397  0.505895  672.209589  0.158925   \n",
       "2         174  452050.0  6781050.0   5.555539  0.607166  708.849096  0.166871   \n",
       "3         175  452050.0  6781100.0   4.928132  0.740983  605.196035  0.160425   \n",
       "4         176  452050.0  6781150.0   4.036606  0.799833  319.160790  0.141114   \n",
       "\n",
       "       NetPerm  SweetSpot  WellPresent  \n",
       "0  1316.895444          1            0  \n",
       "1  2556.454528          1            0  \n",
       "2  3012.225791          0            0  \n",
       "3  2504.174453          0            0  \n",
       "4  1195.540589          0            0  "
      ]
     },
     "execution_count": 14,
     "metadata": {},
     "output_type": "execute_result"
    }
   ],
   "source": [
    "df = pd.read_csv('ClassificationData.csv')\n",
    "df.head()"
   ]
  },
  {
   "cell_type": "code",
   "execution_count": 15,
   "metadata": {},
   "outputs": [
    {
     "data": {
      "text/html": [
       "<div>\n",
       "<style scoped>\n",
       "    .dataframe tbody tr th:only-of-type {\n",
       "        vertical-align: middle;\n",
       "    }\n",
       "\n",
       "    .dataframe tbody tr th {\n",
       "        vertical-align: top;\n",
       "    }\n",
       "\n",
       "    .dataframe thead th {\n",
       "        text-align: right;\n",
       "    }\n",
       "</style>\n",
       "<table border=\"1\" class=\"dataframe\">\n",
       "  <thead>\n",
       "    <tr style=\"text-align: right;\">\n",
       "      <th></th>\n",
       "      <th>Unnamed: 0</th>\n",
       "      <th>XPos</th>\n",
       "      <th>YPos</th>\n",
       "      <th>Thickness</th>\n",
       "      <th>AvgNTG</th>\n",
       "      <th>AvgPerm</th>\n",
       "      <th>AvgPoro</th>\n",
       "      <th>NetPerm</th>\n",
       "      <th>SweetSpot</th>\n",
       "      <th>WellPresent</th>\n",
       "    </tr>\n",
       "  </thead>\n",
       "  <tbody>\n",
       "    <tr>\n",
       "      <th>count</th>\n",
       "      <td>10838.000000</td>\n",
       "      <td>10838.000000</td>\n",
       "      <td>1.083800e+04</td>\n",
       "      <td>10838.000000</td>\n",
       "      <td>10838.000000</td>\n",
       "      <td>10838.000000</td>\n",
       "      <td>10838.000000</td>\n",
       "      <td>10838.000000</td>\n",
       "      <td>10838.000000</td>\n",
       "      <td>10838.000000</td>\n",
       "    </tr>\n",
       "    <tr>\n",
       "      <th>mean</th>\n",
       "      <td>13646.595682</td>\n",
       "      <td>456112.723750</td>\n",
       "      <td>6.784330e+06</td>\n",
       "      <td>95.699724</td>\n",
       "      <td>0.605208</td>\n",
       "      <td>208.816756</td>\n",
       "      <td>0.145924</td>\n",
       "      <td>6901.195967</td>\n",
       "      <td>0.250692</td>\n",
       "      <td>0.000369</td>\n",
       "    </tr>\n",
       "    <tr>\n",
       "      <th>std</th>\n",
       "      <td>4836.368951</td>\n",
       "      <td>1458.884077</td>\n",
       "      <td>1.996730e+03</td>\n",
       "      <td>51.533564</td>\n",
       "      <td>0.142996</td>\n",
       "      <td>218.944614</td>\n",
       "      <td>0.030702</td>\n",
       "      <td>5962.139015</td>\n",
       "      <td>0.433431</td>\n",
       "      <td>0.019209</td>\n",
       "    </tr>\n",
       "    <tr>\n",
       "      <th>min</th>\n",
       "      <td>172.000000</td>\n",
       "      <td>452050.000000</td>\n",
       "      <td>6.780650e+06</td>\n",
       "      <td>0.002956</td>\n",
       "      <td>0.000554</td>\n",
       "      <td>0.486736</td>\n",
       "      <td>0.014187</td>\n",
       "      <td>2.999792</td>\n",
       "      <td>0.000000</td>\n",
       "      <td>0.000000</td>\n",
       "    </tr>\n",
       "    <tr>\n",
       "      <th>25%</th>\n",
       "      <td>10306.250000</td>\n",
       "      <td>455100.000000</td>\n",
       "      <td>6.782650e+06</td>\n",
       "      <td>54.844682</td>\n",
       "      <td>0.537493</td>\n",
       "      <td>110.933804</td>\n",
       "      <td>0.129859</td>\n",
       "      <td>2273.403862</td>\n",
       "      <td>0.000000</td>\n",
       "      <td>0.000000</td>\n",
       "    </tr>\n",
       "    <tr>\n",
       "      <th>50%</th>\n",
       "      <td>14212.500000</td>\n",
       "      <td>456300.000000</td>\n",
       "      <td>6.784200e+06</td>\n",
       "      <td>93.558306</td>\n",
       "      <td>0.627892</td>\n",
       "      <td>153.905207</td>\n",
       "      <td>0.143666</td>\n",
       "      <td>5349.124338</td>\n",
       "      <td>0.000000</td>\n",
       "      <td>0.000000</td>\n",
       "    </tr>\n",
       "    <tr>\n",
       "      <th>75%</th>\n",
       "      <td>17349.750000</td>\n",
       "      <td>457250.000000</td>\n",
       "      <td>6.785950e+06</td>\n",
       "      <td>134.173391</td>\n",
       "      <td>0.699783</td>\n",
       "      <td>217.957656</td>\n",
       "      <td>0.159243</td>\n",
       "      <td>9681.197681</td>\n",
       "      <td>1.000000</td>\n",
       "      <td>0.000000</td>\n",
       "    </tr>\n",
       "    <tr>\n",
       "      <th>max</th>\n",
       "      <td>22249.000000</td>\n",
       "      <td>458700.000000</td>\n",
       "      <td>6.788750e+06</td>\n",
       "      <td>201.216389</td>\n",
       "      <td>0.998875</td>\n",
       "      <td>2947.239978</td>\n",
       "      <td>0.434870</td>\n",
       "      <td>38487.214756</td>\n",
       "      <td>1.000000</td>\n",
       "      <td>1.000000</td>\n",
       "    </tr>\n",
       "  </tbody>\n",
       "</table>\n",
       "</div>"
      ],
      "text/plain": [
       "         Unnamed: 0           XPos          YPos     Thickness        AvgNTG  \\\n",
       "count  10838.000000   10838.000000  1.083800e+04  10838.000000  10838.000000   \n",
       "mean   13646.595682  456112.723750  6.784330e+06     95.699724      0.605208   \n",
       "std     4836.368951    1458.884077  1.996730e+03     51.533564      0.142996   \n",
       "min      172.000000  452050.000000  6.780650e+06      0.002956      0.000554   \n",
       "25%    10306.250000  455100.000000  6.782650e+06     54.844682      0.537493   \n",
       "50%    14212.500000  456300.000000  6.784200e+06     93.558306      0.627892   \n",
       "75%    17349.750000  457250.000000  6.785950e+06    134.173391      0.699783   \n",
       "max    22249.000000  458700.000000  6.788750e+06    201.216389      0.998875   \n",
       "\n",
       "            AvgPerm       AvgPoro       NetPerm     SweetSpot   WellPresent  \n",
       "count  10838.000000  10838.000000  10838.000000  10838.000000  10838.000000  \n",
       "mean     208.816756      0.145924   6901.195967      0.250692      0.000369  \n",
       "std      218.944614      0.030702   5962.139015      0.433431      0.019209  \n",
       "min        0.486736      0.014187      2.999792      0.000000      0.000000  \n",
       "25%      110.933804      0.129859   2273.403862      0.000000      0.000000  \n",
       "50%      153.905207      0.143666   5349.124338      0.000000      0.000000  \n",
       "75%      217.957656      0.159243   9681.197681      1.000000      0.000000  \n",
       "max     2947.239978      0.434870  38487.214756      1.000000      1.000000  "
      ]
     },
     "execution_count": 15,
     "metadata": {},
     "output_type": "execute_result"
    }
   ],
   "source": [
    "df.describe()"
   ]
  },
  {
   "cell_type": "code",
   "execution_count": 16,
   "metadata": {},
   "outputs": [],
   "source": [
    "# copy paste from 01\n",
    "\n",
    "features = [\n",
    "    #'XPos', # propbably dont want these as features\n",
    "    #'YPos', # propbably dont want these as features\n",
    "    'Thickness',\n",
    "    'AvgNTG',\n",
    "    'AvgPerm',\n",
    "    'AvgPoro',\n",
    "    'NetPerm',\n",
    "\n",
    "]\n",
    "\n",
    "label_clf = 'WellPresent' "
   ]
  },
  {
   "cell_type": "code",
   "execution_count": 17,
   "metadata": {},
   "outputs": [],
   "source": [
    "df.dropna(inplace=True)"
   ]
  },
  {
   "cell_type": "code",
   "execution_count": 18,
   "metadata": {},
   "outputs": [],
   "source": [
    "X_train, X_, y_train, y_ = train_test_split(df[features], df[label_clf], test_size=0.33, random_state=13)\n",
    "X_val, X_test, y_val, y_test = train_test_split(X_, y_, test_size=0.50, random_state=42)\n",
    "\n",
    "# sanity check (SHould get 100% results with xpos and y post)\n",
    "#X_train = df[features]\n",
    "#y_train = df[label_clf]"
   ]
  },
  {
   "cell_type": "markdown",
   "metadata": {},
   "source": [
    "Normalization ommited on purpose"
   ]
  },
  {
   "cell_type": "code",
   "execution_count": 19,
   "metadata": {},
   "outputs": [],
   "source": [
    "clf = tree.DecisionTreeClassifier(class_weight='balanced')\n",
    "clf = clf.fit(X_train, y_train)"
   ]
  },
  {
   "cell_type": "code",
   "execution_count": 20,
   "metadata": {},
   "outputs": [],
   "source": [
    "y_pred_val = clf.predict(X_val)"
   ]
  },
  {
   "cell_type": "code",
   "execution_count": 21,
   "metadata": {},
   "outputs": [
    {
     "name": "stdout",
     "output_type": "stream",
     "text": [
      "Precision: 0.000\n",
      "Recall: 0.000\n",
      "F1: 0.000\n"
     ]
    },
    {
     "name": "stderr",
     "output_type": "stream",
     "text": [
      "C:\\Users\\geoff\\AppData\\Local\\conda\\conda\\envs\\oga2018\\lib\\site-packages\\sklearn\\metrics\\classification.py:1143: UndefinedMetricWarning: Precision is ill-defined and being set to 0.0 due to no predicted samples.\n",
      "  'precision', 'predicted', average, warn_for)\n",
      "C:\\Users\\geoff\\AppData\\Local\\conda\\conda\\envs\\oga2018\\lib\\site-packages\\sklearn\\metrics\\classification.py:1143: UndefinedMetricWarning: F-score is ill-defined and being set to 0.0 due to no predicted samples.\n",
      "  'precision', 'predicted', average, warn_for)\n"
     ]
    }
   ],
   "source": [
    "ssp.ReportMetrics(clf, X_train, X_val, y_train, y_val, y_pred_val)"
   ]
  },
  {
   "cell_type": "code",
   "execution_count": 22,
   "metadata": {},
   "outputs": [
    {
     "data": {
      "image/png": "[encoded data removed]",
      "text/plain": [
       "<Figure size 1440x720 with 1 Axes>"
      ]
     },
     "metadata": {
      "needs_background": "light"
     },
     "output_type": "display_data"
    }
   ],
   "source": [
    "ssp.plot_feature_importances(clf,features)"
   ]
  },
  {
   "cell_type": "markdown",
   "metadata": {},
   "source": [
    "maybe use\n",
    "https://graphviz.gitlab.io/_pages/Download/Download_windows.html\n",
    "to plot disision tree\n",
    "(need some local path stuff setup, check with marco)"
   ]
  },
  {
   "cell_type": "code",
   "execution_count": 23,
   "metadata": {},
   "outputs": [
    {
     "data": {
      "text/plain": [
       "'\\nimport os\\nos.environ[\"PATH\"] += os.pathsep + \\'D:/Program Files (x86)/Graphviz2.38/bin/\\'\\nimport graphviz \\n\\ndot_data = tree.export_graphviz(clf, out_file=None, \\n                     feature_names=features,  \\n                     class_names=[\\'No well\\',\\'Sweet Spot\\'],\\n                     filled=True, rounded=True,  \\n                      special_characters=True)  \\ngraphviz.Source(dot_data)\\n'"
      ]
     },
     "execution_count": 23,
     "metadata": {},
     "output_type": "execute_result"
    }
   ],
   "source": [
    "# Need to add path to graphviz for this cell to work\n",
    "\"\"\"\n",
    "import os\n",
    "os.environ[\"PATH\"] += os.pathsep + 'D:/Program Files (x86)/Graphviz2.38/bin/'\n",
    "import graphviz \n",
    "\n",
    "dot_data = tree.export_graphviz(clf, out_file=None, \n",
    "                     feature_names=features,  \n",
    "                     class_names=['No well','Sweet Spot'],\n",
    "                     filled=True, rounded=True,  \n",
    "                      special_characters=True)  \n",
    "graphviz.Source(dot_data)\n",
    "\"\"\""
   ]
  },
  {
   "cell_type": "code",
   "execution_count": 24,
   "metadata": {},
   "outputs": [
    {
     "data": {
      "image/png": "[encoded data removed]",
      "text/plain": [
       "<Figure size 864x576 with 2 Axes>"
      ]
     },
     "metadata": {
      "needs_background": "light"
     },
     "output_type": "display_data"
    }
   ],
   "source": [
    "ssp.plot_map(df, label_clf)\n"
   ]
  },
  {
   "cell_type": "code",
   "execution_count": 25,
   "metadata": {},
   "outputs": [
    {
     "data": {
      "image/png": "[encoded data removed]",
      "text/plain": [
       "<Figure size 864x576 with 2 Axes>"
      ]
     },
     "metadata": {
      "needs_background": "light"
     },
     "output_type": "display_data"
    }
   ],
   "source": [
    "df['prediction'] = clf.predict(df[features])\n",
    "ssp.plot_map(df, 'prediction')"
   ]
  },
  {
   "cell_type": "markdown",
   "metadata": {},
   "source": [
    "# lets draw how certain the clasifications are"
   ]
  },
  {
   "cell_type": "code",
   "execution_count": 26,
   "metadata": {},
   "outputs": [
    {
     "data": {
      "image/png": "[encoded data removed]",
      "text/plain": [
       "<Figure size 864x576 with 2 Axes>"
      ]
     },
     "metadata": {
      "needs_background": "light"
     },
     "output_type": "display_data"
    }
   ],
   "source": [
    "df['prediction_probability'] = clf.predict_proba(df[features])[:,1] # with 1 beeing the probability that there is a sweetspot\n",
    "ssp.plot_map(df, 'prediction_probability')"
   ]
  },
  {
   "cell_type": "markdown",
   "metadata": {},
   "source": [
    "# <a href=\"01 Data Preperation.ipynb\">Previous</a> <a href=\"03 Exploration of models.ipynb\">Next</a> Notebook"
   ]
  },
  {
   "cell_type": "code",
   "execution_count": null,
   "metadata": {},
   "outputs": [],
   "source": []
  }
 ],
 "metadata": {
  "kernelspec": {
   "display_name": "Python 3",
   "language": "python",
   "name": "python3"
  },
  "language_info": {
   "codemirror_mode": {
    "name": "ipython",
    "version": 3
   },
   "file_extension": ".py",
   "mimetype": "text/x-python",
   "name": "python",
   "nbconvert_exporter": "python",
   "pygments_lexer": "ipython3",
   "version": "3.7.1"
  }
 },
 "nbformat": 4,
 "nbformat_minor": 2
}
