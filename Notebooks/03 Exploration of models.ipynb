{
 "cells": [
  {
   "cell_type": "code",
   "execution_count": 1,
   "metadata": {},
   "outputs": [],
   "source": [
    "%matplotlib inline\n",
    "\n",
    "import pandas as pd\n",
    "import numpy as np\n",
    "from sklearn.model_selection import train_test_split\n",
    "from sklearn.preprocessing import StandardScaler\n",
    "from sklearn import tree\n",
    "\n",
    "import SweetSpotPrediction as ssp"
   ]
  },
  {
   "cell_type": "markdown",
   "metadata": {},
   "source": [
    "# 03 Exploration of models\n",
    "Try out a few models see which one works\n",
    "*Note: Run 01 to build the .csv files needed*"
   ]
  },
  {
   "cell_type": "code",
   "execution_count": 2,
   "metadata": {},
   "outputs": [],
   "source": [
    "df = pd.read_csv('ClassificationData.csv')"
   ]
  },
  {
   "cell_type": "code",
   "execution_count": 3,
   "metadata": {},
   "outputs": [],
   "source": [
    "features = [\n",
    "    #'XPos', # propbably dont want these as features\n",
    "    #'YPos', # propbably dont want these as features\n",
    "    'Thickness',\n",
    "    'AvgNTG',\n",
    "    'AvgPerm',\n",
    "    'AvgPoro',\n",
    "    'NetPerm',\n",
    "\n",
    "]\n",
    "\n",
    "label_cls = 'WellPresent' "
   ]
  },
  {
   "cell_type": "code",
   "execution_count": 4,
   "metadata": {},
   "outputs": [],
   "source": [
    "df.dropna(inplace=True)"
   ]
  },
  {
   "cell_type": "code",
   "execution_count": 5,
   "metadata": {
    "scrolled": true
   },
   "outputs": [],
   "source": [
    "X_train, X_, y_train, y_ = train_test_split(df[features], df[label_cls], test_size=0.33, random_state=42)\n",
    "X_val, X_test, y_val, y_test = train_test_split(X_, y_, test_size=0.50, random_state=42)"
   ]
  },
  {
   "cell_type": "markdown",
   "metadata": {},
   "source": [
    "# Normalization and other preprocessing"
   ]
  },
  {
   "cell_type": "code",
   "execution_count": 6,
   "metadata": {},
   "outputs": [
    {
     "data": {
      "text/plain": [
       "array([[-1.12575556,  0.6153493 , -0.31663338, -1.66260359, -0.82918996],\n",
       "       [ 0.40753906,  0.25875761, -0.21976436, -0.09182623, -0.33758253],\n",
       "       [ 1.85501255,  0.31995338, -0.27835758, -0.11918309,  0.12937766],\n",
       "       [-0.2260377 ,  0.55406095, -0.3504782 ,  0.46813745, -0.41576113],\n",
       "       [ 1.02251528, -0.07085826,  0.23406518,  0.4761513 ,  4.59688932]])"
      ]
     },
     "execution_count": 6,
     "metadata": {},
     "output_type": "execute_result"
    }
   ],
   "source": [
    "preprocessing = StandardScaler()\n",
    "X_train = preprocessing.fit_transform(X_train)\n",
    "X_test = preprocessing.transform(X_test)\n",
    "X_val = preprocessing.transform(X_val)\n",
    "X_train[:5]"
   ]
  },
  {
   "cell_type": "code",
   "execution_count": 7,
   "metadata": {},
   "outputs": [],
   "source": [
    "from sklearn.metrics import accuracy_score, log_loss\n",
    "from sklearn.neighbors import KNeighborsClassifier\n",
    "from sklearn.svm import SVC, LinearSVC, NuSVC\n",
    "from sklearn.tree import DecisionTreeClassifier\n",
    "from sklearn.ensemble import RandomForestClassifier, AdaBoostClassifier, GradientBoostingClassifier\n",
    "from sklearn.naive_bayes import GaussianNB\n",
    "from sklearn.discriminant_analysis import LinearDiscriminantAnalysis\n",
    "from sklearn.discriminant_analysis import QuadraticDiscriminantAnalysis\n",
    "from sklearn.neural_network import MLPClassifier\n",
    "    \n",
    "classifiers = [\n",
    "    AdaBoostClassifier(),\n",
    "    DecisionTreeClassifier(class_weight='balanced'),\n",
    "    GradientBoostingClassifier(),\n",
    "    GaussianNB(),\n",
    "    KNeighborsClassifier(2),\n",
    "    #NuSVC(probability=True),\n",
    "    LinearDiscriminantAnalysis(),\n",
    "    MLPClassifier(),\n",
    "    QuadraticDiscriminantAnalysis(),\n",
    "    RandomForestClassifier(),\n",
    "    SVC(kernel=\"rbf\", C=0.025, probability=True),\n",
    "    ]"
   ]
  },
  {
   "cell_type": "code",
   "execution_count": 8,
   "metadata": {},
   "outputs": [
    {
     "name": "stdout",
     "output_type": "stream",
     "text": [
      "Model 0: AdaBoostClassifier(algorithm='SAMME.R', base_estimator=None,\n",
      "          learning_rate=1.0, n_estimators=50, random_state=None)\n",
      "Weighted accuracy on training set: 0.523\n",
      "Weighted accuracy on test set: 0.539\n",
      "\n",
      "Precision: 0.550\n",
      "Recall: 0.081\n",
      "F1: 0.141\n",
      "-------------------------------------------------------------------\n",
      "Model 1: DecisionTreeClassifier(class_weight='balanced', criterion='gini',\n",
      "            max_depth=None, max_features=None, max_leaf_nodes=None,\n",
      "            min_impurity_decrease=0.0, min_impurity_split=None,\n",
      "            min_samples_leaf=1, min_samples_split=2,\n",
      "            min_weight_fraction_leaf=0.0, presort=False, random_state=None,\n",
      "            splitter='best')\n",
      "Weighted accuracy on training set: 1.000\n",
      "Weighted accuracy on test set: 0.748\n",
      "\n",
      "Precision: 0.534\n",
      "Recall: 0.522\n",
      "F1: 0.528\n",
      "-------------------------------------------------------------------\n",
      "Model 2: GradientBoostingClassifier(criterion='friedman_mse', init=None,\n",
      "              learning_rate=0.1, loss='deviance', max_depth=3,\n",
      "              max_features=None, max_leaf_nodes=None,\n",
      "              min_impurity_decrease=0.0, min_impurity_split=None,\n",
      "              min_samples_leaf=1, min_samples_split=2,\n",
      "              min_weight_fraction_leaf=0.0, n_estimators=100,\n",
      "              n_iter_no_change=None, presort='auto', random_state=None,\n",
      "              subsample=1.0, tol=0.0001, validation_fraction=0.1,\n",
      "              verbose=0, warm_start=False)\n",
      "Weighted accuracy on training set: 0.645\n",
      "Weighted accuracy on test set: 0.602\n",
      "\n",
      "Precision: 0.824\n",
      "Recall: 0.206\n",
      "F1: 0.329\n",
      "-------------------------------------------------------------------\n",
      "Model 3: GaussianNB(priors=None, var_smoothing=1e-09)\n",
      "Weighted accuracy on training set: 0.705\n",
      "Weighted accuracy on test set: 0.698\n",
      "\n",
      "Precision: 0.101\n",
      "Recall: 0.801\n",
      "F1: 0.180\n",
      "-------------------------------------------------------------------\n",
      "Model 4: KNeighborsClassifier(algorithm='auto', leaf_size=30, metric='minkowski',\n",
      "           metric_params=None, n_jobs=None, n_neighbors=2, p=2,\n",
      "           weights='uniform')\n",
      "Weighted accuracy on training set: 0.801\n",
      "Weighted accuracy on test set: 0.721\n",
      "\n",
      "Precision: 0.813\n",
      "Recall: 0.449\n",
      "F1: 0.578\n",
      "-------------------------------------------------------------------\n",
      "Model 5: LinearDiscriminantAnalysis(n_components=None, priors=None, shrinkage=None,\n",
      "              solver='svd', store_covariance=False, tol=0.0001)\n",
      "Weighted accuracy on training set: 0.497\n",
      "Weighted accuracy on test set: 0.498\n",
      "\n",
      "Precision: 0.037\n",
      "Recall: 0.007\n",
      "F1: 0.012\n",
      "-------------------------------------------------------------------\n",
      "Model 6: MLPClassifier(activation='relu', alpha=0.0001, batch_size='auto', beta_1=0.9,\n",
      "       beta_2=0.999, early_stopping=False, epsilon=1e-08,\n",
      "       hidden_layer_sizes=(100,), learning_rate='constant',\n",
      "       learning_rate_init=0.001, max_iter=200, momentum=0.9,\n",
      "       n_iter_no_change=10, nesterovs_momentum=True, power_t=0.5,\n",
      "       random_state=None, shuffle=True, solver='adam', tol=0.0001,\n",
      "       validation_fraction=0.1, verbose=False, warm_start=False)\n"
     ]
    },
    {
     "name": "stderr",
     "output_type": "stream",
     "text": [
      "C:\\Program Files (x86)\\Microsoft Visual Studio\\Shared\\Anaconda3_64\\lib\\site-packages\\sklearn\\neural_network\\multilayer_perceptron.py:562: ConvergenceWarning: Stochastic Optimizer: Maximum iterations (200) reached and the optimization hasn't converged yet.\n",
      "  % self.max_iter, ConvergenceWarning)\n",
      "C:\\Program Files (x86)\\Microsoft Visual Studio\\Shared\\Anaconda3_64\\lib\\site-packages\\sklearn\\ensemble\\forest.py:248: FutureWarning: The default value of n_estimators will change from 10 in version 0.20 to 100 in 0.22.\n",
      "  \"10 in version 0.20 to 100 in 0.22.\", FutureWarning)\n"
     ]
    },
    {
     "name": "stdout",
     "output_type": "stream",
     "text": [
      "Weighted accuracy on training set: 0.675\n",
      "Weighted accuracy on test set: 0.686\n",
      "\n",
      "Precision: 0.667\n",
      "Recall: 0.382\n",
      "F1: 0.486\n",
      "-------------------------------------------------------------------\n",
      "Model 7: QuadraticDiscriminantAnalysis(priors=None, reg_param=0.0,\n",
      "               store_covariance=False, store_covariances=None, tol=0.0001)\n",
      "Weighted accuracy on training set: 0.731\n",
      "Weighted accuracy on test set: 0.719\n",
      "\n",
      "Precision: 0.109\n",
      "Recall: 0.824\n",
      "F1: 0.193\n",
      "-------------------------------------------------------------------\n",
      "Model 8: RandomForestClassifier(bootstrap=True, class_weight=None, criterion='gini',\n",
      "            max_depth=None, max_features='auto', max_leaf_nodes=None,\n",
      "            min_impurity_decrease=0.0, min_impurity_split=None,\n",
      "            min_samples_leaf=1, min_samples_split=2,\n",
      "            min_weight_fraction_leaf=0.0, n_estimators='warn', n_jobs=None,\n",
      "            oob_score=False, random_state=None, verbose=0,\n",
      "            warm_start=False)\n",
      "Weighted accuracy on training set: 0.968\n",
      "Weighted accuracy on test set: 0.713\n",
      "\n",
      "Precision: 0.756\n",
      "Recall: 0.434\n",
      "F1: 0.551\n",
      "-------------------------------------------------------------------\n",
      "Model 9: SVC(C=0.025, cache_size=200, class_weight=None, coef0=0.0,\n",
      "  decision_function_shape='ovr', degree=3, gamma='auto_deprecated',\n",
      "  kernel='rbf', max_iter=-1, probability=True, random_state=None,\n",
      "  shrinking=True, tol=0.001, verbose=False)\n",
      "Weighted accuracy on training set: 0.500\n",
      "Weighted accuracy on test set: 0.500\n",
      "\n",
      "Precision: 0.000\n",
      "Recall: 0.000\n",
      "F1: 0.000\n",
      "-------------------------------------------------------------------\n"
     ]
    },
    {
     "name": "stderr",
     "output_type": "stream",
     "text": [
      "C:\\Program Files (x86)\\Microsoft Visual Studio\\Shared\\Anaconda3_64\\lib\\site-packages\\sklearn\\metrics\\classification.py:1143: UndefinedMetricWarning: Precision is ill-defined and being set to 0.0 due to no predicted samples.\n",
      "  'precision', 'predicted', average, warn_for)\n",
      "C:\\Program Files (x86)\\Microsoft Visual Studio\\Shared\\Anaconda3_64\\lib\\site-packages\\sklearn\\metrics\\classification.py:1143: UndefinedMetricWarning: F-score is ill-defined and being set to 0.0 due to no predicted samples.\n",
      "  'precision', 'predicted', average, warn_for)\n"
     ]
    }
   ],
   "source": [
    "for index, clf in enumerate(classifiers):\n",
    "    print(f\"Model {index}: {clf}\")\n",
    "    clf.fit(X_train, y_train)\n",
    "    y_pred_val = clf.predict(X_val)\n",
    "    ssp.ReportMetrics(clf, X_train, X_val, y_train, y_val, y_pred_val)\n",
    "    print(f\"-------------------------------------------------------------------\")"
   ]
  },
  {
   "cell_type": "code",
   "execution_count": 9,
   "metadata": {},
   "outputs": [
    {
     "data": {
      "image/png": "[encoded data removed]",
      "text/plain": [
       "<Figure size 1440x720 with 1 Axes>"
      ]
     },
     "metadata": {
      "needs_background": "light"
     },
     "output_type": "display_data"
    }
   ],
   "source": [
    "bestModel = classifiers[1]\n",
    "ssp.plot_feature_importances(bestModel,features)"
   ]
  },
  {
   "cell_type": "markdown",
   "metadata": {},
   "source": [
    "# <a href=\"02 Base Model.ipynb\">Previous</a> <a href=\"04 Classification model.ipynb\">Next</a> Notebook"
   ]
  }
 ],
 "metadata": {
  "kernelspec": {
   "display_name": "Python 3",
   "language": "python",
   "name": "python3"
  },
  "language_info": {
   "codemirror_mode": {
    "name": "ipython",
    "version": 3
   },
   "file_extension": ".py",
   "mimetype": "text/x-python",
   "name": "python",
   "nbconvert_exporter": "python",
   "pygments_lexer": "ipython3",
   "version": "3.6.7"
  }
 },
 "nbformat": 4,
 "nbformat_minor": 2
}
