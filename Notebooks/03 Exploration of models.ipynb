{
 "cells": [
  {
   "cell_type": "code",
   "execution_count": 1,
   "metadata": {},
   "outputs": [],
   "source": [
    "%matplotlib inline\n",
    "\n",
    "import pandas as pd\n",
    "import numpy as np\n",
    "from sklearn.model_selection import train_test_split\n",
    "from sklearn.preprocessing import StandardScaler\n",
    "from sklearn import tree\n",
    "\n",
    "import SweetSpotPrediction as ssp"
   ]
  },
  {
   "cell_type": "markdown",
   "metadata": {},
   "source": [
    "# 03 Exploration of models\n",
    "Try out a few models see which one works\n",
    "*Note: Run 01 to build the .csv files needed*"
   ]
  },
  {
   "cell_type": "code",
   "execution_count": 2,
   "metadata": {},
   "outputs": [],
   "source": [
    "df = pd.read_csv('ClassificationData.csv')"
   ]
  },
  {
   "cell_type": "code",
   "execution_count": 3,
   "metadata": {},
   "outputs": [],
   "source": [
    "features = [\n",
    "    'XPos', # propbably dont want these as features\n",
    "    'YPos', # propbably dont want these as features\n",
    "    'Random1',\n",
    "    'Random2'\n",
    "\n",
    "]\n",
    "\n",
    "label_cls = 'WellPresent' "
   ]
  },
  {
   "cell_type": "code",
   "execution_count": 4,
   "metadata": {
    "scrolled": true
   },
   "outputs": [],
   "source": [
    "X_train, X_, y_train, y_ = train_test_split(df[features], df[label_cls], test_size=0.33, random_state=42)\n",
    "X_val, X_test, y_val, y_test = train_test_split(X_, y_, test_size=0.50, random_state=42)"
   ]
  },
  {
   "cell_type": "markdown",
   "metadata": {},
   "source": [
    "# Normalization and other preprocessing"
   ]
  },
  {
   "cell_type": "code",
   "execution_count": 5,
   "metadata": {},
   "outputs": [
    {
     "name": "stderr",
     "output_type": "stream",
     "text": [
      "C:\\Program Files (x86)\\Microsoft Visual Studio\\Shared\\Anaconda3_64\\lib\\site-packages\\sklearn\\preprocessing\\data.py:617: DataConversionWarning: Data with input dtype int64, float64 were all converted to float64 by StandardScaler.\n",
      "  return self.partial_fit(X, y)\n",
      "C:\\Program Files (x86)\\Microsoft Visual Studio\\Shared\\Anaconda3_64\\lib\\site-packages\\sklearn\\base.py:462: DataConversionWarning: Data with input dtype int64, float64 were all converted to float64 by StandardScaler.\n",
      "  return self.fit(X, **fit_params).transform(X)\n",
      "C:\\Program Files (x86)\\Microsoft Visual Studio\\Shared\\Anaconda3_64\\lib\\site-packages\\ipykernel_launcher.py:3: DataConversionWarning: Data with input dtype int64, float64 were all converted to float64 by StandardScaler.\n",
      "  This is separate from the ipykernel package so we can avoid doing imports until\n",
      "C:\\Program Files (x86)\\Microsoft Visual Studio\\Shared\\Anaconda3_64\\lib\\site-packages\\ipykernel_launcher.py:4: DataConversionWarning: Data with input dtype int64, float64 were all converted to float64 by StandardScaler.\n",
      "  after removing the cwd from sys.path.\n"
     ]
    },
    {
     "data": {
      "text/plain": [
       "array([[-1.22474487, -0.97085465,  1.18642381,  1.20799049],\n",
       "       [ 0.        ,  0.25548807,  1.10648994, -1.08979259],\n",
       "       [ 1.22474487, -0.97085465,  1.45006002,  1.5470137 ],\n",
       "       [-1.22474487,  1.48183078,  0.65741947,  0.23331249],\n",
       "       [ 0.        , -0.97085465, -0.73691194, -0.07864404]])"
      ]
     },
     "execution_count": 5,
     "metadata": {},
     "output_type": "execute_result"
    }
   ],
   "source": [
    "preprocessing = StandardScaler()\n",
    "X_train = preprocessing.fit_transform(X_train)\n",
    "X_test = preprocessing.transform(X_test)\n",
    "X_val = preprocessing.transform(X_val)\n",
    "X_train[:5]"
   ]
  },
  {
   "cell_type": "code",
   "execution_count": 6,
   "metadata": {},
   "outputs": [],
   "source": [
    "from sklearn.metrics import accuracy_score, log_loss\n",
    "from sklearn.neighbors import KNeighborsClassifier\n",
    "from sklearn.svm import SVC, LinearSVC, NuSVC\n",
    "from sklearn.tree import DecisionTreeClassifier\n",
    "from sklearn.ensemble import RandomForestClassifier, AdaBoostClassifier, GradientBoostingClassifier\n",
    "from sklearn.naive_bayes import GaussianNB\n",
    "from sklearn.discriminant_analysis import LinearDiscriminantAnalysis\n",
    "from sklearn.discriminant_analysis import QuadraticDiscriminantAnalysis\n",
    "\n",
    "classifiers = [\n",
    "    KNeighborsClassifier(3),\n",
    "    SVC(kernel=\"rbf\", C=0.025, probability=True),\n",
    "    NuSVC(probability=True),\n",
    "    DecisionTreeClassifier(),\n",
    "    RandomForestClassifier(),\n",
    "    AdaBoostClassifier(),\n",
    "    GradientBoostingClassifier(),\n",
    "    GaussianNB(),\n",
    "    LinearDiscriminantAnalysis(),\n",
    "    QuadraticDiscriminantAnalysis()]"
   ]
  },
  {
   "cell_type": "code",
   "execution_count": 10,
   "metadata": {},
   "outputs": [
    {
     "name": "stdout",
     "output_type": "stream",
     "text": [
      "Model: KNeighborsClassifier(algorithm='auto', leaf_size=30, metric='minkowski',\n",
      "           metric_params=None, n_jobs=None, n_neighbors=3, p=2,\n",
      "           weights='uniform')\n",
      "Weighted accuracy on training set: 0.571\n",
      "Weighted accuracy on test set: 0.500\n",
      "\n",
      "Precision: 0.333\n",
      "Recall: 0.500\n",
      "F1: 0.400\n",
      "Model: SVC(C=0.025, cache_size=200, class_weight=None, coef0=0.0,\n",
      "  decision_function_shape='ovr', degree=3, gamma='auto_deprecated',\n",
      "  kernel='rbf', max_iter=-1, probability=True, random_state=None,\n",
      "  shrinking=True, tol=0.001, verbose=False)\n",
      "Weighted accuracy on training set: 0.500\n",
      "Weighted accuracy on test set: 0.500\n",
      "\n",
      "Precision: 0.333\n",
      "Recall: 1.000\n",
      "F1: 0.500\n",
      "Model: NuSVC(cache_size=200, class_weight=None, coef0=0.0,\n",
      "   decision_function_shape='ovr', degree=3, gamma='auto_deprecated',\n",
      "   kernel='rbf', max_iter=-1, nu=0.5, probability=True, random_state=None,\n",
      "   shrinking=True, tol=0.001, verbose=False)\n",
      "Weighted accuracy on training set: 0.964\n",
      "Weighted accuracy on test set: 0.125\n",
      "\n",
      "Precision: 0.000\n",
      "Recall: 0.000\n",
      "F1: 0.000\n",
      "Model: DecisionTreeClassifier(class_weight=None, criterion='gini', max_depth=None,\n",
      "            max_features=None, max_leaf_nodes=None,\n",
      "            min_impurity_decrease=0.0, min_impurity_split=None,\n",
      "            min_samples_leaf=1, min_samples_split=2,\n",
      "            min_weight_fraction_leaf=0.0, presort=False, random_state=None,\n",
      "            splitter='best')\n",
      "Weighted accuracy on training set: 1.000\n",
      "Weighted accuracy on test set: 0.125\n",
      "\n",
      "Precision: 0.000\n",
      "Recall: 0.000\n",
      "F1: 0.000\n",
      "Model: RandomForestClassifier(bootstrap=True, class_weight=None, criterion='gini',\n",
      "            max_depth=None, max_features='auto', max_leaf_nodes=None,\n",
      "            min_impurity_decrease=0.0, min_impurity_split=None,\n",
      "            min_samples_leaf=1, min_samples_split=2,\n",
      "            min_weight_fraction_leaf=0.0, n_estimators=10, n_jobs=None,\n",
      "            oob_score=False, random_state=None, verbose=0,\n",
      "            warm_start=False)\n",
      "Weighted accuracy on training set: 0.950\n",
      "Weighted accuracy on test set: 0.000\n",
      "\n",
      "Precision: 0.000\n",
      "Recall: 0.000\n",
      "F1: 0.000\n",
      "Model: AdaBoostClassifier(algorithm='SAMME.R', base_estimator=None,\n",
      "          learning_rate=1.0, n_estimators=50, random_state=None)\n",
      "Weighted accuracy on training set: 1.000\n",
      "Weighted accuracy on test set: 0.375\n",
      "\n",
      "Precision: 0.250\n",
      "Recall: 0.500\n",
      "F1: 0.333\n",
      "Model: GradientBoostingClassifier(criterion='friedman_mse', init=None,\n",
      "              learning_rate=0.1, loss='deviance', max_depth=3,\n",
      "              max_features=None, max_leaf_nodes=None,\n",
      "              min_impurity_decrease=0.0, min_impurity_split=None,\n",
      "              min_samples_leaf=1, min_samples_split=2,\n",
      "              min_weight_fraction_leaf=0.0, n_estimators=100,\n",
      "              n_iter_no_change=None, presort='auto', random_state=None,\n",
      "              subsample=1.0, tol=0.0001, validation_fraction=0.1,\n",
      "              verbose=0, warm_start=False)\n",
      "Weighted accuracy on training set: 1.000\n",
      "Weighted accuracy on test set: 0.250\n",
      "\n",
      "Precision: 0.200\n",
      "Recall: 0.500\n",
      "F1: 0.286\n",
      "Model: GaussianNB(priors=None, var_smoothing=1e-09)\n",
      "Weighted accuracy on training set: 0.529\n",
      "Weighted accuracy on test set: 0.375\n",
      "\n",
      "Precision: 0.250\n",
      "Recall: 0.500\n",
      "F1: 0.333\n",
      "Model: LinearDiscriminantAnalysis(n_components=None, priors=None, shrinkage=None,\n",
      "              solver='svd', store_covariance=False, tol=0.0001)\n",
      "Weighted accuracy on training set: 0.443\n",
      "Weighted accuracy on test set: 0.375\n",
      "\n",
      "Precision: 0.250\n",
      "Recall: 0.500\n",
      "F1: 0.333\n",
      "Model: QuadraticDiscriminantAnalysis(priors=None, reg_param=0.0,\n",
      "               store_covariance=False, store_covariances=None, tol=0.0001)\n",
      "Weighted accuracy on training set: 0.743\n",
      "Weighted accuracy on test set: 0.750\n",
      "\n",
      "Precision: 0.500\n",
      "Recall: 1.000\n",
      "F1: 0.667\n"
     ]
    }
   ],
   "source": [
    "for clf in classifiers:\n",
    "    print(f\"Model: {clf}\")\n",
    "    clf.fit(X_train, y_train)\n",
    "    y_pred_test = clf.predict(X_test)\n",
    "    ssp.ReportMetrics(clf, X_train, X_test, y_train, y_test, y_pred_test)\n",
    "     print(f\"------------------------\")"
   ]
  },
  {
   "cell_type": "code",
   "execution_count": null,
   "metadata": {},
   "outputs": [],
   "source": []
  }
 ],
 "metadata": {
  "kernelspec": {
   "display_name": "Python 3",
   "language": "python",
   "name": "python3"
  },
  "language_info": {
   "codemirror_mode": {
    "name": "ipython",
    "version": 3
   },
   "file_extension": ".py",
   "mimetype": "text/x-python",
   "name": "python",
   "nbconvert_exporter": "python",
   "pygments_lexer": "ipython3",
   "version": "3.6.7"
  }
 },
 "nbformat": 4,
 "nbformat_minor": 2
}
