{
 "cells": [
  {
   "cell_type": "code",
   "execution_count": 1,
   "metadata": {},
   "outputs": [],
   "source": [
    "%matplotlib inline\n",
    "\n",
    "import pandas as pd\n",
    "import numpy as np\n",
    "from sklearn.model_selection import train_test_split\n",
    "from sklearn.preprocessing import StandardScaler\n",
    "from sklearn import tree\n",
    "\n",
    "import SweetSpotPrediction as ssp"
   ]
  },
  {
   "cell_type": "markdown",
   "metadata": {},
   "source": [
    "# Base Case read data"
   ]
  },
  {
   "cell_type": "code",
   "execution_count": 2,
   "metadata": {},
   "outputs": [],
   "source": [
    "# File paths with corresponding map names\n",
    "files_names = {'Data\\\\thickness\\\\thickness': 'Thickness'\n",
    "         , 'Data\\\\avgntg\\\\avgntgasc': 'AvgNTG'\n",
    "         , 'Data\\\\avgperm\\\\avgpermasc': 'AvgPerm'\n",
    "         , 'Data\\\\avgporo\\\\avgporoasc': 'AvgPoro'\n",
    "         , 'Data\\\\netperm\\\\netpermasc': 'NetPerm'\n",
    "               \n",
    "         , 'Data\\\\sweetspot.txt': 'SweetSpot'\n",
    "              }\n",
    "\n",
    "# Read map files\n",
    "dfs = []\n",
    "spacing = 50 # map grid cell dimension\n",
    "for key in files_names:\n",
    "    df = pd.read_csv(key, delimiter=' ', comment='#', names=['XPos', 'YPos', files_names[key], 'c1', 'c2'])\n",
    "    df.drop(columns=['c1', 'c2'], inplace=True)\n",
    "    df_reg = ssp.make_regular(df, files_names[key], spacing)\n",
    "    df_reg.set_index(['XPos','YPos'], inplace=True)\n",
    "    dfs = dfs + [df_reg]\n",
    "\n",
    "# Merge dataframes\n",
    "df = pd.concat(dfs, axis='columns', join='inner').reset_index()"
   ]
  },
  {
   "cell_type": "code",
   "execution_count": 3,
   "metadata": {},
   "outputs": [],
   "source": [
    "features = [\n",
    "    #'XPos', # propbably dont want these as features\n",
    "    #'YPos', # propbably dont want these as features\n",
    "    'Thickness',\n",
    "    'AvgNTG',\n",
    "    'AvgPerm',\n",
    "    'AvgPoro',\n",
    "    'NetPerm',\n",
    "\n",
    "]\n",
    "\n",
    "label_clf = 'SweetSpot' "
   ]
  },
  {
   "cell_type": "markdown",
   "metadata": {},
   "source": [
    "# Data cleaning"
   ]
  },
  {
   "cell_type": "code",
   "execution_count": 4,
   "metadata": {},
   "outputs": [],
   "source": [
    "# Functions to drop values less than zero or greater than one\n",
    "\n",
    "def drop_neg(x):\n",
    "    if x < 0:\n",
    "        return np.nan\n",
    "    else:\n",
    "        return x\n",
    "\n",
    "def drop_gt1(x):\n",
    "    if x > 1:\n",
    "        return np.nan\n",
    "    else:\n",
    "        return x\n",
    "    \n",
    "def zero_to_one(x):\n",
    "    if x < 0.2:\n",
    "        return 0\n",
    "    else:\n",
    "        return 1"
   ]
  },
  {
   "cell_type": "code",
   "execution_count": 5,
   "metadata": {},
   "outputs": [],
   "source": [
    "def clean_columns(df):\n",
    "\n",
    "    # Clean dataframe according to specified columns to remove negatives or greater than one\n",
    "    df_clean = df.copy()\n",
    "\n",
    "    cols_remove_negs = set(df_clean.columns) - {'XPos', 'YPos', 'SweetSpot'}\n",
    "    cols_remove_gt1 = {'AvgNTG', 'WellProbability'}\n",
    "    cols_limit_zero_to_one = { 'SweetSpot'}\n",
    "\n",
    "\n",
    "    for col in df_clean.columns:\n",
    "        if col in cols_remove_negs:\n",
    "            df_clean[col] = df_clean[col].apply(drop_neg)\n",
    "        if col in cols_remove_gt1:\n",
    "            df_clean[col] = df_clean[col].apply(drop_gt1)\n",
    "        if col in cols_limit_zero_to_one:\n",
    "            df_clean[col] = df_clean[col].apply(zero_to_one)\n",
    "    df_clean.dropna(inplace=True)\n",
    "    return df_clean"
   ]
  },
  {
   "cell_type": "code",
   "execution_count": 6,
   "metadata": {},
   "outputs": [],
   "source": [
    "df_clean = clean_columns(df)"
   ]
  },
  {
   "cell_type": "code",
   "execution_count": 7,
   "metadata": {},
   "outputs": [],
   "source": [
    "df_clean.SweetSpot = df_clean.SweetSpot.fillna(0).round().astype('int64')"
   ]
  },
  {
   "cell_type": "markdown",
   "metadata": {},
   "source": [
    "# Goal: Sweet Spots "
   ]
  },
  {
   "cell_type": "code",
   "execution_count": 8,
   "metadata": {},
   "outputs": [
    {
     "data": {
      "image/png": "[encoded data removed]",
      "text/plain": [
       "<Figure size 864x576 with 2 Axes>"
      ]
     },
     "metadata": {
      "needs_background": "light"
     },
     "output_type": "display_data"
    }
   ],
   "source": [
    "ssp.plot_map(df_clean, 'SweetSpot', dtype='cat')"
   ]
  },
  {
   "cell_type": "markdown",
   "metadata": {},
   "source": [
    "# Train Model"
   ]
  },
  {
   "cell_type": "code",
   "execution_count": 9,
   "metadata": {},
   "outputs": [],
   "source": [
    "X_train, X_, y_train, y_ = train_test_split(df_clean[features], df_clean[label_clf], test_size=0.33, random_state=42)\n",
    "X_val, X_test, y_val, y_test = train_test_split(X_, y_, test_size=0.50, random_state=42)"
   ]
  },
  {
   "cell_type": "markdown",
   "metadata": {},
   "source": [
    "# Normalization and other preprocessing"
   ]
  },
  {
   "cell_type": "code",
   "execution_count": 10,
   "metadata": {},
   "outputs": [],
   "source": [
    "preprocessing = StandardScaler()\n",
    "X_train = preprocessing.fit_transform(X_train)\n",
    "#X_test = preprocessing.transform(X_test)\n",
    "X_val = preprocessing.transform(X_val)"
   ]
  },
  {
   "cell_type": "markdown",
   "metadata": {},
   "source": [
    "# Model Scores"
   ]
  },
  {
   "cell_type": "code",
   "execution_count": 11,
   "metadata": {},
   "outputs": [
    {
     "name": "stdout",
     "output_type": "stream",
     "text": [
      "Precision: 0.677\n",
      "Recall: 0.795\n",
      "F1: 0.731\n"
     ]
    }
   ],
   "source": [
    "from sklearn.naive_bayes import GaussianNB\n",
    "model = GaussianNB()\n",
    "model.fit(X_train, y_train)\n",
    "y_pred_val = model.predict(X_val)\n",
    "ssp.ReportMetrics(model, X_train, X_val, y_train, y_val, y_pred_val)"
   ]
  },
  {
   "cell_type": "code",
   "execution_count": 12,
   "metadata": {},
   "outputs": [
    {
     "data": {
      "image/png": "[encoded data removed]",
      "text/plain": [
       "<Figure size 432x288 with 1 Axes>"
      ]
     },
     "metadata": {
      "needs_background": "light"
     },
     "output_type": "display_data"
    }
   ],
   "source": [
    "from sklearn.metrics import roc_curve, auc\n",
    "df_clean['prediction_prob'] = model.predict_proba(preprocessing.transform(df_clean[features]))[:,1]\n",
    "\n",
    "fpr, tpr, threshold = roc_curve(df_clean[label_clf], df_clean['prediction_prob'] )\n",
    "\n",
    "roc_auc = auc(fpr, tpr)\n",
    "\n",
    "# method I: plt\n",
    "import matplotlib.pyplot as plt\n",
    "plt.title('Receiver Operating Characteristic')\n",
    "plt.plot(fpr, tpr, 'b', label = 'AUC = %0.2f' % roc_auc)\n",
    "plt.legend(loc = 'lower right')\n",
    "plt.plot([0, 1], [0, 1],'r--')\n",
    "plt.xlim([0, 1])\n",
    "plt.ylim([0, 1])\n",
    "plt.ylabel('True Positive Rate')\n",
    "plt.xlabel('False Positive Rate')\n",
    "plt.show()"
   ]
  },
  {
   "cell_type": "markdown",
   "metadata": {},
   "source": [
    "# Uncertainties"
   ]
  },
  {
   "cell_type": "code",
   "execution_count": 13,
   "metadata": {},
   "outputs": [],
   "source": [
    "files_thickness = ['Data\\\\thickness\\\\thickness','Data\\\\thickness\\\\thickness_fake']\n",
    "files_ntg = ['Data\\\\avgntg\\\\avgntgasc']\n",
    "files_AvgPerm =['Data\\\\avgperm\\\\avgpermasc']\n",
    "files_AvgPoro =['Data\\\\avgporo\\\\avgporoasc']\n",
    "files_NetPerm =['Data\\\\netperm\\\\netpermasc']\n",
    "\n",
    "import itertools\n",
    "files=[ files_thickness,files_ntg,files_AvgPerm,files_AvgPoro,files_NetPerm ]\n",
    "sets = list(itertools.product(*files))"
   ]
  },
  {
   "cell_type": "code",
   "execution_count": null,
   "metadata": {},
   "outputs": [],
   "source": []
  },
  {
   "cell_type": "code",
   "execution_count": 15,
   "metadata": {},
   "outputs": [],
   "source": [
    "dataframes_with_predictions = []\n",
    "\n",
    "for singlePermutation in sets:\n",
    "    files_names = {singlePermutation[0]: 'Thickness'\n",
    "         , singlePermutation[1]: 'AvgNTG'\n",
    "         , singlePermutation[2]: 'AvgPerm'\n",
    "         , singlePermutation[3]: 'AvgPoro'\n",
    "         , singlePermutation[4]: 'NetPerm'\n",
    "               }\n",
    "    # Read map files\n",
    "    dfs = []\n",
    "    spacing = 50 # map grid cell dimension\n",
    "    for key in files_names:\n",
    "        df = pd.read_csv(key, delimiter=' ', comment='#', names=['XPos', 'YPos', files_names[key], 'c1', 'c2'])\n",
    "        df.drop(columns=['c1', 'c2'], inplace=True)\n",
    "        df_reg = ssp.make_regular(df, files_names[key], spacing)\n",
    "        df_reg.set_index(['XPos','YPos'], inplace=True)\n",
    "        dfs = dfs + [df_reg]\n",
    "\n",
    "    # Merge dataframes\n",
    "    df = pd.concat(dfs, axis='columns', join='inner').reset_index()\n",
    "    df_clean = clean_columns(df)\n",
    "    df_clean['prediction'] = model.predict_proba(preprocessing.transform(df_clean[features]))[:,1]\n",
    "    #ssp.plot_map(df_clean, 'prediction', dtype='cat')\n",
    "    dataframes_with_predictions.append(df_clean)\n",
    "    "
   ]
  },
  {
   "cell_type": "code",
   "execution_count": 16,
   "metadata": {},
   "outputs": [
    {
     "name": "stdout",
     "output_type": "stream",
     "text": [
      "Stored 'dataframes_with_predictions' (list)\n"
     ]
    }
   ],
   "source": [
    "%store dataframes_with_predictions"
   ]
  },
  {
   "cell_type": "code",
   "execution_count": null,
   "metadata": {},
   "outputs": [],
   "source": []
  }
 ],
 "metadata": {
  "kernelspec": {
   "display_name": "Python 3",
   "language": "python",
   "name": "python3"
  },
  "language_info": {
   "codemirror_mode": {
    "name": "ipython",
    "version": 3
   },
   "file_extension": ".py",
   "mimetype": "text/x-python",
   "name": "python",
   "nbconvert_exporter": "python",
   "pygments_lexer": "ipython3",
   "version": "3.6.7"
  }
 },
 "nbformat": 4,
 "nbformat_minor": 2
}
