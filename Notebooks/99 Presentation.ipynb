{
 "cells": [
  {
   "cell_type": "markdown",
   "metadata": {},
   "source": [
    "# Sweet Spot Prediction\n",
    "A OGA Hackathon 2018 (London) project\n",
    "\n",
    "**Team members**\n",
    "* Alan Wilson\n",
    "* Geoff Chambers\n",
    "* Marco van der Linden\n",
    "* Maxim Kotenev\n",
    "* Rowan Haddad\n",
    "\n",
    "Github:\n",
    "https://github.com/Nozziel/OGA2018_SweetSpotPrediction"
   ]
  },
  {
   "cell_type": "markdown",
   "metadata": {},
   "source": [
    "# What we are doing"
   ]
  },
  {
   "cell_type": "code",
   "execution_count": null,
   "metadata": {},
   "outputs": [],
   "source": []
  },
  {
   "cell_type": "markdown",
   "metadata": {},
   "source": [
    "# Why we are predicting Sweet Spots"
   ]
  },
  {
   "cell_type": "code",
   "execution_count": null,
   "metadata": {},
   "outputs": [],
   "source": []
  },
  {
   "cell_type": "markdown",
   "metadata": {},
   "source": [
    "# How are we predicting Sweet Spots"
   ]
  },
  {
   "cell_type": "code",
   "execution_count": null,
   "metadata": {},
   "outputs": [],
   "source": []
  },
  {
   "cell_type": "markdown",
   "metadata": {},
   "source": [
    "# Our results"
   ]
  },
  {
   "cell_type": "markdown",
   "metadata": {},
   "source": []
  },
  {
   "cell_type": "markdown",
   "metadata": {},
   "source": []
  },
  {
   "cell_type": "markdown",
   "metadata": {},
   "source": [
    "\n",
    "Results:\n",
    "* Visualize original map(s) and our predicted map"
   ]
  },
  {
   "cell_type": "markdown",
   "metadata": {},
   "source": [
    "# Links\n",
    "* <a href=\"01 Data Preperation.ipynb\">01 Data Preperation</a>\n",
    "* <a href=\"02 Base Model.ipynb\">02 Base Model</a>\n",
    "* <a href=\"03 Exploration of models.ipynb\">03 Exploration of models</a>\n",
    "* <a href=\"04 Classification model.ipynb\">04 Classification model</a>\n",
    "* <a href=\"05 Regression model.ipynb\">05 Regression model</a>\n"
   ]
  },
  {
   "cell_type": "markdown",
   "metadata": {},
   "source": [
    "# !!! DELETE ME\n",
    "\n",
    "markdown cheat sheet\n",
    "https://github.com/adam-p/markdown-here/wiki/Markdown-Here-Cheatsheet\n",
    "\n",
    "# DELETE ME\n",
    "    "
   ]
  },
  {
   "cell_type": "code",
   "execution_count": null,
   "metadata": {},
   "outputs": [],
   "source": []
  }
 ],
 "metadata": {
  "kernelspec": {
   "display_name": "Python 3",
   "language": "python",
   "name": "python3"
  },
  "language_info": {
   "codemirror_mode": {
    "name": "ipython",
    "version": 3
   },
   "file_extension": ".py",
   "mimetype": "text/x-python",
   "name": "python",
   "nbconvert_exporter": "python",
   "pygments_lexer": "ipython3",
   "version": "3.6.7"
  }
 },
 "nbformat": 4,
 "nbformat_minor": 2
}
