{
 "cells": [
  {
   "cell_type": "markdown",
   "metadata": {},
   "source": [
    "# 01 Data Preperation\n",
    "Here we can convert the raw data into our features and labels."
   ]
  },
  {
   "cell_type": "markdown",
   "metadata": {},
   "source": [
    "*Paths*\n",
    "* Classification: Simple datatable for each (X,Y) Pos\n",
    "<table>\n",
    "    <thead><tr><td>X pos</td><td>Y pos</td><td>value_map_1</td><td>value_map_2</td><td>value_map_3</td><td>A_well_was_drilled_at_this_pos</td></tr></thead>\n",
    "    <tr><td>0</td><td>0</td><td>5.2</td><td>1.2</td><td>1.2</td><td>False</td></tr>\n",
    "    <tr><td>0</td><td>1</td><td>6.3</td><td>6.3</td><td>6.3</td><td>True</td></tr>\n",
    "    </table>\n",
    "* Regression: Simple datatable for each (X,Y) Pos. Distance factor (0.0-1.0) should probably be a quadratic factor?\n",
    "<table>\n",
    "    <thead><tr><td>X pos</td><td>Y pos</td><td>value_map_1</td><td>value_map_2</td><td>value_map_3</td><td>Distance_factor_from_actual_well</td></tr></thead>\n",
    "    <tr><td>0</td><td>0</td><td>5.2</td><td>1.2</td><td>1.2</td><td>0.62</td></tr>\n",
    "    <tr><td>0</td><td>1</td><td>6.3</td><td>6.3</td><td>6.3</td><td>1.0</td></tr>\n",
    "    </table>\n",
    "* Deep Learning (**Out of scope**): Combine the 2D maps into a single feature space and as a lable a 2D mask with actual production well location (perfect for convolutional neural networks)"
   ]
  },
  {
   "cell_type": "code",
   "execution_count": null,
   "metadata": {},
   "outputs": [],
   "source": []
  }
 ],
 "metadata": {
  "kernelspec": {
   "display_name": "Python 3",
   "language": "python",
   "name": "python3"
  },
  "language_info": {
   "codemirror_mode": {
    "name": "ipython",
    "version": 3
   },
   "file_extension": ".py",
   "mimetype": "text/x-python",
   "name": "python",
   "nbconvert_exporter": "python",
   "pygments_lexer": "ipython3",
   "version": "3.6.7"
  }
 },
 "nbformat": 4,
 "nbformat_minor": 2
}
