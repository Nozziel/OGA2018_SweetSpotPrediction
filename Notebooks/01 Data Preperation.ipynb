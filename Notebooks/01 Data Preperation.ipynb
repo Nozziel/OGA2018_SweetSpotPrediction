{
 "cells": [
  {
   "cell_type": "code",
   "execution_count": 4,
   "metadata": {},
   "outputs": [],
   "source": [
    "import pandas as pd\n",
    "import numpy as np"
   ]
  },
  {
   "cell_type": "markdown",
   "metadata": {},
   "source": [
    "# 01 Data Preperation\n",
    "Here we can convert the raw data into our features and labels."
   ]
  },
  {
   "cell_type": "markdown",
   "metadata": {},
   "source": [
    "*Paths*\n",
    "* Classification: Simple datatable for each (X,Y) Pos\n",
    "<table>\n",
    "    <thead><tr><td>X pos</td><td>Y pos</td><td>value_map_1</td><td>value_map_2</td><td>value_map_3</td><td>A_well_was_drilled_at_this_pos</td></tr></thead>\n",
    "    <tr><td>0</td><td>0</td><td>5.2</td><td>1.2</td><td>1.2</td><td>False</td></tr>\n",
    "    <tr><td>0</td><td>1</td><td>6.3</td><td>6.3</td><td>6.3</td><td>True</td></tr>\n",
    "    </table>\n",
    "* Regression: Simple datatable for each (X,Y) Pos. Distance factor (0.0-1.0) should probably be a quadratic factor?\n",
    "<table>\n",
    "    <thead><tr><td>X pos</td><td>Y pos</td><td>value_map_1</td><td>value_map_2</td><td>value_map_3</td><td>Distance_factor_from_actual_well</td></tr></thead>\n",
    "    <tr><td>0</td><td>0</td><td>5.2</td><td>1.2</td><td>1.2</td><td>0.62</td></tr>\n",
    "    <tr><td>0</td><td>1</td><td>6.3</td><td>6.3</td><td>6.3</td><td>1.0</td></tr>\n",
    "    </table>\n",
    "* Deep Learning (**Out of scope**): Combine the 2D maps into a single feature space and as a lable a 2D mask with actual production well location (perfect for convolutional neural networks)"
   ]
  },
  {
   "cell_type": "markdown",
   "metadata": {},
   "source": [
    "# Rread Well locations (Classification)"
   ]
  },
  {
   "cell_type": "code",
   "execution_count": 31,
   "metadata": {},
   "outputs": [
    {
     "data": {
      "text/html": [
       "<div>\n",
       "<style scoped>\n",
       "    .dataframe tbody tr th:only-of-type {\n",
       "        vertical-align: middle;\n",
       "    }\n",
       "\n",
       "    .dataframe tbody tr th {\n",
       "        vertical-align: top;\n",
       "    }\n",
       "\n",
       "    .dataframe thead th {\n",
       "        text-align: right;\n",
       "    }\n",
       "</style>\n",
       "<table border=\"1\" class=\"dataframe\">\n",
       "  <thead>\n",
       "    <tr style=\"text-align: right;\">\n",
       "      <th></th>\n",
       "      <th>XPos</th>\n",
       "      <th>YPos</th>\n",
       "      <th>Random1</th>\n",
       "      <th>Random2</th>\n",
       "      <th>WellPresent</th>\n",
       "    </tr>\n",
       "  </thead>\n",
       "  <tbody>\n",
       "    <tr>\n",
       "      <th>0</th>\n",
       "      <td>0</td>\n",
       "      <td>0</td>\n",
       "      <td>44.693032</td>\n",
       "      <td>22.491911</td>\n",
       "      <td>1</td>\n",
       "    </tr>\n",
       "    <tr>\n",
       "      <th>1</th>\n",
       "      <td>1</td>\n",
       "      <td>0</td>\n",
       "      <td>3.784084</td>\n",
       "      <td>89.322495</td>\n",
       "      <td>1</td>\n",
       "    </tr>\n",
       "    <tr>\n",
       "      <th>2</th>\n",
       "      <td>2</td>\n",
       "      <td>0</td>\n",
       "      <td>76.538793</td>\n",
       "      <td>47.103689</td>\n",
       "      <td>0</td>\n",
       "    </tr>\n",
       "    <tr>\n",
       "      <th>3</th>\n",
       "      <td>0</td>\n",
       "      <td>1</td>\n",
       "      <td>86.221039</td>\n",
       "      <td>97.030792</td>\n",
       "      <td>1</td>\n",
       "    </tr>\n",
       "    <tr>\n",
       "      <th>4</th>\n",
       "      <td>1</td>\n",
       "      <td>1</td>\n",
       "      <td>42.069954</td>\n",
       "      <td>17.644576</td>\n",
       "      <td>1</td>\n",
       "    </tr>\n",
       "  </tbody>\n",
       "</table>\n",
       "</div>"
      ],
      "text/plain": [
       "   XPos  YPos    Random1    Random2  WellPresent\n",
       "0     0     0  44.693032  22.491911            1\n",
       "1     1     0   3.784084  89.322495            1\n",
       "2     2     0  76.538793  47.103689            0\n",
       "3     0     1  86.221039  97.030792            1\n",
       "4     1     1  42.069954  17.644576            1"
      ]
     },
     "execution_count": 31,
     "metadata": {},
     "output_type": "execute_result"
    }
   ],
   "source": [
    "#file = open(“WellLocationsMap.txt”, “r”)\n",
    " \n",
    "#print file.read(5) \n",
    "\n",
    "# loop over the data and create a datframe [XPos, YPos, WellPresent]\n",
    "\n",
    "df_cls = pd.DataFrame()\n",
    "df_cls['XPos'] = [0,1,2,0,1,2,0,1,2]\n",
    "df_cls['YPos'] = [0,0,0,1,1,1,2,2,2]\n",
    "df_cls['Random1'] = np.random.uniform(0, 100, df_cls.shape[0])\n",
    "df_cls['Random2'] = np.random.uniform(0, 100, df_cls.shape[0])\n",
    "\n",
    "df_cls['WellPresent'] = np.random.randint(0, 2, df_cls.shape[0])\n",
    "df_cls.head()"
   ]
  },
  {
   "cell_type": "markdown",
   "metadata": {},
   "source": [
    "# Read Well location approximations (Regression)"
   ]
  },
  {
   "cell_type": "code",
   "execution_count": 34,
   "metadata": {},
   "outputs": [
    {
     "data": {
      "text/html": [
       "<div>\n",
       "<style scoped>\n",
       "    .dataframe tbody tr th:only-of-type {\n",
       "        vertical-align: middle;\n",
       "    }\n",
       "\n",
       "    .dataframe tbody tr th {\n",
       "        vertical-align: top;\n",
       "    }\n",
       "\n",
       "    .dataframe thead th {\n",
       "        text-align: right;\n",
       "    }\n",
       "</style>\n",
       "<table border=\"1\" class=\"dataframe\">\n",
       "  <thead>\n",
       "    <tr style=\"text-align: right;\">\n",
       "      <th></th>\n",
       "      <th>XPos</th>\n",
       "      <th>YPos</th>\n",
       "      <th>Random1</th>\n",
       "      <th>Random2</th>\n",
       "      <th>WellProbability</th>\n",
       "    </tr>\n",
       "  </thead>\n",
       "  <tbody>\n",
       "    <tr>\n",
       "      <th>0</th>\n",
       "      <td>0</td>\n",
       "      <td>0</td>\n",
       "      <td>28.904510</td>\n",
       "      <td>67.011900</td>\n",
       "      <td>0.543692</td>\n",
       "    </tr>\n",
       "    <tr>\n",
       "      <th>1</th>\n",
       "      <td>1</td>\n",
       "      <td>0</td>\n",
       "      <td>79.071356</td>\n",
       "      <td>14.315418</td>\n",
       "      <td>0.689636</td>\n",
       "    </tr>\n",
       "    <tr>\n",
       "      <th>2</th>\n",
       "      <td>2</td>\n",
       "      <td>0</td>\n",
       "      <td>83.086544</td>\n",
       "      <td>73.866708</td>\n",
       "      <td>0.765839</td>\n",
       "    </tr>\n",
       "    <tr>\n",
       "      <th>3</th>\n",
       "      <td>0</td>\n",
       "      <td>1</td>\n",
       "      <td>87.419551</td>\n",
       "      <td>81.646088</td>\n",
       "      <td>0.775982</td>\n",
       "    </tr>\n",
       "    <tr>\n",
       "      <th>4</th>\n",
       "      <td>1</td>\n",
       "      <td>1</td>\n",
       "      <td>14.186743</td>\n",
       "      <td>93.120957</td>\n",
       "      <td>0.159413</td>\n",
       "    </tr>\n",
       "  </tbody>\n",
       "</table>\n",
       "</div>"
      ],
      "text/plain": [
       "   XPos  YPos    Random1    Random2  WellProbability\n",
       "0     0     0  28.904510  67.011900         0.543692\n",
       "1     1     0  79.071356  14.315418         0.689636\n",
       "2     2     0  83.086544  73.866708         0.765839\n",
       "3     0     1  87.419551  81.646088         0.775982\n",
       "4     1     1  14.186743  93.120957         0.159413"
      ]
     },
     "execution_count": 34,
     "metadata": {},
     "output_type": "execute_result"
    }
   ],
   "source": [
    "df_reg = pd.DataFrame()\n",
    "df_reg['XPos'] = [0,1,2,0,1,2,0,1,2]\n",
    "df_reg['YPos'] = [0,0,0,1,1,1,2,2,2]\n",
    "df_reg['Random1'] = np.random.uniform(0, 100, df_cls.shape[0])\n",
    "df_reg['Random2'] = np.random.uniform(0, 100, df_cls.shape[0])\n",
    "\n",
    "df_reg['WellProbability'] = np.random.uniform(0, 1, df_cls.shape[0])\n",
    "df_reg.head()"
   ]
  },
  {
   "cell_type": "markdown",
   "metadata": {},
   "source": [
    "# Data cleaning"
   ]
  },
  {
   "cell_type": "code",
   "execution_count": null,
   "metadata": {},
   "outputs": [],
   "source": []
  },
  {
   "cell_type": "markdown",
   "metadata": {},
   "source": [
    "# Feature Engineering"
   ]
  },
  {
   "cell_type": "code",
   "execution_count": null,
   "metadata": {},
   "outputs": [],
   "source": []
  },
  {
   "cell_type": "markdown",
   "metadata": {},
   "source": [
    "# Save the data"
   ]
  },
  {
   "cell_type": "code",
   "execution_count": 35,
   "metadata": {},
   "outputs": [],
   "source": [
    "df_cls.to_csv('ClassificationData.csv')\n",
    "df_reg.to_csv('RegressionData.csv')"
   ]
  },
  {
   "cell_type": "markdown",
   "metadata": {},
   "source": [
    "# TODO\n",
    "* Discuss Train/Validation/Test split (arbitrary random or specific say reserving a few wells for each set)??"
   ]
  },
  {
   "cell_type": "code",
   "execution_count": null,
   "metadata": {},
   "outputs": [],
   "source": []
  }
 ],
 "metadata": {
  "kernelspec": {
   "display_name": "Python 3",
   "language": "python",
   "name": "python3"
  },
  "language_info": {
   "codemirror_mode": {
    "name": "ipython",
    "version": 3
   },
   "file_extension": ".py",
   "mimetype": "text/x-python",
   "name": "python",
   "nbconvert_exporter": "python",
   "pygments_lexer": "ipython3",
   "version": "3.6.7"
  }
 },
 "nbformat": 4,
 "nbformat_minor": 2
}
