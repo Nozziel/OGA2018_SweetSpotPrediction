{
 "cells": [
  {
   "cell_type": "code",
   "execution_count": 112,
   "metadata": {},
   "outputs": [],
   "source": [
    "%load_ext autoreload\n",
    "%autoreload 1\n",
    "\n",
    "import pandas as pd\n",
    "import numpy as np\n",
    "\n",
    "%aimport SweetSpotPrediction\n",
    "import SweetSpotPrediction as ssp"
   ]
  },
  {
   "cell_type": "markdown",
   "metadata": {},
   "source": [
    "# 01 Data Preperation\n",
    "Here we can convert the raw data into our features and labels."
   ]
  },
  {
   "cell_type": "markdown",
   "metadata": {},
   "source": [
    "*Paths*\n",
    "* Classification: Simple datatable for each (X,Y) Pos\n",
    "<table>\n",
    "    <thead><tr><td>X pos</td><td>Y pos</td><td>value_map_1</td><td>value_map_2</td><td>value_map_3</td><td>A_well_was_drilled_at_this_pos</td></tr></thead>\n",
    "    <tr><td>0</td><td>0</td><td>5.2</td><td>1.2</td><td>1.2</td><td>False</td></tr>\n",
    "    <tr><td>0</td><td>1</td><td>6.3</td><td>6.3</td><td>6.3</td><td>True</td></tr>\n",
    "    </table>\n",
    "* Regression: Simple datatable for each (X,Y) Pos. Distance factor (0.0-1.0) should probably be a quadratic factor?\n",
    "<table>\n",
    "    <thead><tr><td>X pos</td><td>Y pos</td><td>value_map_1</td><td>value_map_2</td><td>value_map_3</td><td>Distance_factor_from_actual_well</td></tr></thead>\n",
    "    <tr><td>0</td><td>0</td><td>5.2</td><td>1.2</td><td>1.2</td><td>0.62</td></tr>\n",
    "    <tr><td>0</td><td>1</td><td>6.3</td><td>6.3</td><td>6.3</td><td>1.0</td></tr>\n",
    "    </table>\n",
    "* Deep Learning (**Out of scope**): Combine the 2D maps into a single feature space and as a lable a 2D mask with actual production well location (perfect for convolutional neural networks)"
   ]
  },
  {
   "cell_type": "markdown",
   "metadata": {},
   "source": [
    "# Read Maps, including Well Probability"
   ]
  },
  {
   "cell_type": "code",
   "execution_count": 113,
   "metadata": {},
   "outputs": [],
   "source": [
    "# File paths with map names\n",
    "files_names = {'Data\\\\thickness\\\\thickness': 'Thickness'\n",
    "         , 'Data\\\\avgntg\\\\avgntgasc': 'AvgNTG'\n",
    "         , 'Data\\\\avgperm\\\\avgpermasc': 'AvgPerm'\n",
    "         , 'Data\\\\avgporo\\\\avgporoasc': 'AvgPoro'\n",
    "         , 'Data\\\\netperm\\\\netpermasc': 'NetPerm'\n",
    "         , 'Data\\\\distwellweight.txt': 'WellProbability'\n",
    "              }\n",
    "\n",
    "# Read map files\n",
    "dfs = []\n",
    "spacing = 50 # map grid cell dimension\n",
    "for key in files_names:\n",
    "    df = pd.read_csv(key, delimiter=' ', comment='#', names=['XPos', 'YPos', files_names[key], 'c1', 'c2'])\n",
    "    df.drop(columns=['c1', 'c2'], inplace=True)\n",
    "    df_reg = ssp.make_regular(df, files_names[key], spacing)\n",
    "    df_reg.set_index(['XPos','YPos'], inplace=True)\n",
    "    dfs = dfs + [df_reg]\n",
    "\n",
    "# Merge dataframes\n",
    "df_cls = pd.concat(dfs, axis='columns', join='inner').reset_index()"
   ]
  },
  {
   "cell_type": "markdown",
   "metadata": {},
   "source": [
    "# Add Well locations (Classification)"
   ]
  },
  {
   "cell_type": "code",
   "execution_count": 114,
   "metadata": {},
   "outputs": [],
   "source": [
    "# This is a fudge, for now\n",
    "\n",
    "df_cls['WellPresent'] = df_cls.WellProbability > 0.75"
   ]
  },
  {
   "cell_type": "code",
   "execution_count": 115,
   "metadata": {},
   "outputs": [
    {
     "data": {
      "text/html": [
       "<div>\n",
       "<style scoped>\n",
       "    .dataframe tbody tr th:only-of-type {\n",
       "        vertical-align: middle;\n",
       "    }\n",
       "\n",
       "    .dataframe tbody tr th {\n",
       "        vertical-align: top;\n",
       "    }\n",
       "\n",
       "    .dataframe thead th {\n",
       "        text-align: right;\n",
       "    }\n",
       "</style>\n",
       "<table border=\"1\" class=\"dataframe\">\n",
       "  <thead>\n",
       "    <tr style=\"text-align: right;\">\n",
       "      <th></th>\n",
       "      <th>XPos</th>\n",
       "      <th>YPos</th>\n",
       "      <th>Thickness</th>\n",
       "      <th>AvgNTG</th>\n",
       "      <th>AvgPerm</th>\n",
       "      <th>AvgPoro</th>\n",
       "      <th>NetPerm</th>\n",
       "      <th>WellProbability</th>\n",
       "      <th>WellPresent</th>\n",
       "    </tr>\n",
       "  </thead>\n",
       "  <tbody>\n",
       "    <tr>\n",
       "      <th>0</th>\n",
       "      <td>452000.0</td>\n",
       "      <td>6780600.0</td>\n",
       "      <td>-19.843674</td>\n",
       "      <td>NaN</td>\n",
       "      <td>NaN</td>\n",
       "      <td>NaN</td>\n",
       "      <td>NaN</td>\n",
       "      <td>NaN</td>\n",
       "      <td>False</td>\n",
       "    </tr>\n",
       "    <tr>\n",
       "      <th>1</th>\n",
       "      <td>452000.0</td>\n",
       "      <td>6780650.0</td>\n",
       "      <td>-17.164212</td>\n",
       "      <td>NaN</td>\n",
       "      <td>NaN</td>\n",
       "      <td>NaN</td>\n",
       "      <td>NaN</td>\n",
       "      <td>NaN</td>\n",
       "      <td>False</td>\n",
       "    </tr>\n",
       "    <tr>\n",
       "      <th>2</th>\n",
       "      <td>452000.0</td>\n",
       "      <td>6780700.0</td>\n",
       "      <td>-14.827628</td>\n",
       "      <td>NaN</td>\n",
       "      <td>NaN</td>\n",
       "      <td>NaN</td>\n",
       "      <td>NaN</td>\n",
       "      <td>NaN</td>\n",
       "      <td>False</td>\n",
       "    </tr>\n",
       "    <tr>\n",
       "      <th>3</th>\n",
       "      <td>452000.0</td>\n",
       "      <td>6780750.0</td>\n",
       "      <td>-14.540321</td>\n",
       "      <td>NaN</td>\n",
       "      <td>NaN</td>\n",
       "      <td>NaN</td>\n",
       "      <td>NaN</td>\n",
       "      <td>NaN</td>\n",
       "      <td>False</td>\n",
       "    </tr>\n",
       "    <tr>\n",
       "      <th>4</th>\n",
       "      <td>452000.0</td>\n",
       "      <td>6780800.0</td>\n",
       "      <td>-15.951475</td>\n",
       "      <td>NaN</td>\n",
       "      <td>NaN</td>\n",
       "      <td>NaN</td>\n",
       "      <td>NaN</td>\n",
       "      <td>NaN</td>\n",
       "      <td>False</td>\n",
       "    </tr>\n",
       "  </tbody>\n",
       "</table>\n",
       "</div>"
      ],
      "text/plain": [
       "       XPos       YPos  Thickness  AvgNTG  AvgPerm  AvgPoro  NetPerm  \\\n",
       "0  452000.0  6780600.0 -19.843674     NaN      NaN      NaN      NaN   \n",
       "1  452000.0  6780650.0 -17.164212     NaN      NaN      NaN      NaN   \n",
       "2  452000.0  6780700.0 -14.827628     NaN      NaN      NaN      NaN   \n",
       "3  452000.0  6780750.0 -14.540321     NaN      NaN      NaN      NaN   \n",
       "4  452000.0  6780800.0 -15.951475     NaN      NaN      NaN      NaN   \n",
       "\n",
       "   WellProbability  WellPresent  \n",
       "0              NaN        False  \n",
       "1              NaN        False  \n",
       "2              NaN        False  \n",
       "3              NaN        False  \n",
       "4              NaN        False  "
      ]
     },
     "execution_count": 115,
     "metadata": {},
     "output_type": "execute_result"
    }
   ],
   "source": [
    "df_cls.head()"
   ]
  },
  {
   "cell_type": "markdown",
   "metadata": {},
   "source": [
    "# Data cleaning"
   ]
  },
  {
   "cell_type": "code",
   "execution_count": null,
   "metadata": {},
   "outputs": [],
   "source": []
  },
  {
   "cell_type": "markdown",
   "metadata": {},
   "source": [
    "# Feature Engineering"
   ]
  },
  {
   "cell_type": "code",
   "execution_count": null,
   "metadata": {},
   "outputs": [],
   "source": []
  },
  {
   "cell_type": "markdown",
   "metadata": {},
   "source": [
    "# Save the data"
   ]
  },
  {
   "cell_type": "code",
   "execution_count": 4,
   "metadata": {},
   "outputs": [],
   "source": [
    "df_cls.to_csv('ClassificationData.csv')\n",
    "df_reg.to_csv('RegressionData.csv')"
   ]
  },
  {
   "cell_type": "markdown",
   "metadata": {},
   "source": [
    "# Copy paste features and Labels"
   ]
  },
  {
   "cell_type": "code",
   "execution_count": 5,
   "metadata": {},
   "outputs": [],
   "source": [
    "features = [\n",
    "    'XPos', # propbably dont want these as features\n",
    "    'YPos', # propbably dont want these as features\n",
    "    'Random1',\n",
    "    'Random2'\n",
    "\n",
    "]\n",
    "\n",
    "label_clf = 'WellPresent' \n",
    "label_reg = 'WellProbability'"
   ]
  },
  {
   "cell_type": "markdown",
   "metadata": {},
   "source": [
    "# TODO\n",
    "* Discuss Train/Validation/Test split (arbitrary random or specific say reserving a few wells for each set)??"
   ]
  },
  {
   "cell_type": "markdown",
   "metadata": {},
   "source": [
    "# <a href=\"02 Base Model.ipynb\">Next</a> Notebook"
   ]
  },
  {
   "cell_type": "code",
   "execution_count": null,
   "metadata": {},
   "outputs": [],
   "source": []
  }
 ],
 "metadata": {
  "kernelspec": {
   "display_name": "Python 3",
   "language": "python",
   "name": "python3"
  },
  "language_info": {
   "codemirror_mode": {
    "name": "ipython",
    "version": 3
   },
   "file_extension": ".py",
   "mimetype": "text/x-python",
   "name": "python",
   "nbconvert_exporter": "python",
   "pygments_lexer": "ipython3",
   "version": "3.7.1"
  }
 },
 "nbformat": 4,
 "nbformat_minor": 2
}
