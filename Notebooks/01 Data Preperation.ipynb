{
 "cells": [
  {
   "cell_type": "code",
   "execution_count": 1,
   "metadata": {},
   "outputs": [],
   "source": [
    "import pandas as pd\n",
    "import numpy as np"
   ]
  },
  {
   "cell_type": "markdown",
   "metadata": {},
   "source": [
    "# 01 Data Preperation\n",
    "Here we can convert the raw data into our features and labels."
   ]
  },
  {
   "cell_type": "markdown",
   "metadata": {},
   "source": [
    "*Paths*\n",
    "* Classification: Simple datatable for each (X,Y) Pos\n",
    "<table>\n",
    "    <thead><tr><td>X pos</td><td>Y pos</td><td>value_map_1</td><td>value_map_2</td><td>value_map_3</td><td>A_well_was_drilled_at_this_pos</td></tr></thead>\n",
    "    <tr><td>0</td><td>0</td><td>5.2</td><td>1.2</td><td>1.2</td><td>False</td></tr>\n",
    "    <tr><td>0</td><td>1</td><td>6.3</td><td>6.3</td><td>6.3</td><td>True</td></tr>\n",
    "    </table>\n",
    "* Regression: Simple datatable for each (X,Y) Pos. Distance factor (0.0-1.0) should probably be a quadratic factor?\n",
    "<table>\n",
    "    <thead><tr><td>X pos</td><td>Y pos</td><td>value_map_1</td><td>value_map_2</td><td>value_map_3</td><td>Distance_factor_from_actual_well</td></tr></thead>\n",
    "    <tr><td>0</td><td>0</td><td>5.2</td><td>1.2</td><td>1.2</td><td>0.62</td></tr>\n",
    "    <tr><td>0</td><td>1</td><td>6.3</td><td>6.3</td><td>6.3</td><td>1.0</td></tr>\n",
    "    </table>\n",
    "* Deep Learning (**Out of scope**): Combine the 2D maps into a single feature space and as a lable a 2D mask with actual production well location (perfect for convolutional neural networks)"
   ]
  },
  {
   "cell_type": "markdown",
   "metadata": {},
   "source": [
    "# Rread Well locations (Classification)"
   ]
  },
  {
   "cell_type": "code",
   "execution_count": 2,
   "metadata": {},
   "outputs": [
    {
     "data": {
      "text/html": [
       "<div>\n",
       "<style scoped>\n",
       "    .dataframe tbody tr th:only-of-type {\n",
       "        vertical-align: middle;\n",
       "    }\n",
       "\n",
       "    .dataframe tbody tr th {\n",
       "        vertical-align: top;\n",
       "    }\n",
       "\n",
       "    .dataframe thead th {\n",
       "        text-align: right;\n",
       "    }\n",
       "</style>\n",
       "<table border=\"1\" class=\"dataframe\">\n",
       "  <thead>\n",
       "    <tr style=\"text-align: right;\">\n",
       "      <th></th>\n",
       "      <th>XPos</th>\n",
       "      <th>YPos</th>\n",
       "      <th>Random1</th>\n",
       "      <th>Random2</th>\n",
       "      <th>WellPresent</th>\n",
       "    </tr>\n",
       "  </thead>\n",
       "  <tbody>\n",
       "    <tr>\n",
       "      <th>0</th>\n",
       "      <td>0</td>\n",
       "      <td>0</td>\n",
       "      <td>30.539818</td>\n",
       "      <td>43.245462</td>\n",
       "      <td>0</td>\n",
       "    </tr>\n",
       "    <tr>\n",
       "      <th>1</th>\n",
       "      <td>1</td>\n",
       "      <td>0</td>\n",
       "      <td>5.224166</td>\n",
       "      <td>21.452538</td>\n",
       "      <td>0</td>\n",
       "    </tr>\n",
       "    <tr>\n",
       "      <th>2</th>\n",
       "      <td>2</td>\n",
       "      <td>0</td>\n",
       "      <td>1.238728</td>\n",
       "      <td>21.125614</td>\n",
       "      <td>1</td>\n",
       "    </tr>\n",
       "    <tr>\n",
       "      <th>3</th>\n",
       "      <td>0</td>\n",
       "      <td>1</td>\n",
       "      <td>5.683362</td>\n",
       "      <td>51.689841</td>\n",
       "      <td>1</td>\n",
       "    </tr>\n",
       "    <tr>\n",
       "      <th>4</th>\n",
       "      <td>1</td>\n",
       "      <td>1</td>\n",
       "      <td>94.328344</td>\n",
       "      <td>34.019446</td>\n",
       "      <td>0</td>\n",
       "    </tr>\n",
       "  </tbody>\n",
       "</table>\n",
       "</div>"
      ],
      "text/plain": [
       "   XPos  YPos    Random1    Random2  WellPresent\n",
       "0     0     0  30.539818  43.245462            0\n",
       "1     1     0   5.224166  21.452538            0\n",
       "2     2     0   1.238728  21.125614            1\n",
       "3     0     1   5.683362  51.689841            1\n",
       "4     1     1  94.328344  34.019446            0"
      ]
     },
     "execution_count": 2,
     "metadata": {},
     "output_type": "execute_result"
    }
   ],
   "source": [
    "#file = open(“WellLocationsMap.txt”, “r”)\n",
    " \n",
    "#print file.read(5) \n",
    "\n",
    "# loop over the data and create a datframe [XPos, YPos, WellPresent]\n",
    "\n",
    "df_cls = pd.DataFrame()\n",
    "df_cls['XPos'] = [0,1,2,0,1,2,0,1,2]\n",
    "df_cls['YPos'] = [0,0,0,1,1,1,2,2,2]\n",
    "df_cls['Random1'] = np.random.uniform(0, 100, df_cls.shape[0])\n",
    "df_cls['Random2'] = np.random.uniform(0, 100, df_cls.shape[0])\n",
    "\n",
    "df_cls['WellPresent'] = np.random.randint(0, 2, df_cls.shape[0])\n",
    "df_cls.head()"
   ]
  },
  {
   "cell_type": "markdown",
   "metadata": {},
   "source": [
    "# Read Well location approximations (Regression)"
   ]
  },
  {
   "cell_type": "code",
   "execution_count": 3,
   "metadata": {},
   "outputs": [
    {
     "data": {
      "text/html": [
       "<div>\n",
       "<style scoped>\n",
       "    .dataframe tbody tr th:only-of-type {\n",
       "        vertical-align: middle;\n",
       "    }\n",
       "\n",
       "    .dataframe tbody tr th {\n",
       "        vertical-align: top;\n",
       "    }\n",
       "\n",
       "    .dataframe thead th {\n",
       "        text-align: right;\n",
       "    }\n",
       "</style>\n",
       "<table border=\"1\" class=\"dataframe\">\n",
       "  <thead>\n",
       "    <tr style=\"text-align: right;\">\n",
       "      <th></th>\n",
       "      <th>XPos</th>\n",
       "      <th>YPos</th>\n",
       "      <th>Random1</th>\n",
       "      <th>Random2</th>\n",
       "      <th>WellProbability</th>\n",
       "    </tr>\n",
       "  </thead>\n",
       "  <tbody>\n",
       "    <tr>\n",
       "      <th>0</th>\n",
       "      <td>0</td>\n",
       "      <td>0</td>\n",
       "      <td>64.010192</td>\n",
       "      <td>87.246352</td>\n",
       "      <td>0.016698</td>\n",
       "    </tr>\n",
       "    <tr>\n",
       "      <th>1</th>\n",
       "      <td>1</td>\n",
       "      <td>0</td>\n",
       "      <td>70.715952</td>\n",
       "      <td>20.619585</td>\n",
       "      <td>0.471618</td>\n",
       "    </tr>\n",
       "    <tr>\n",
       "      <th>2</th>\n",
       "      <td>2</td>\n",
       "      <td>0</td>\n",
       "      <td>27.970154</td>\n",
       "      <td>25.118185</td>\n",
       "      <td>0.673057</td>\n",
       "    </tr>\n",
       "    <tr>\n",
       "      <th>3</th>\n",
       "      <td>0</td>\n",
       "      <td>1</td>\n",
       "      <td>30.790035</td>\n",
       "      <td>83.064406</td>\n",
       "      <td>0.053341</td>\n",
       "    </tr>\n",
       "    <tr>\n",
       "      <th>4</th>\n",
       "      <td>1</td>\n",
       "      <td>1</td>\n",
       "      <td>91.800314</td>\n",
       "      <td>7.717272</td>\n",
       "      <td>0.531517</td>\n",
       "    </tr>\n",
       "  </tbody>\n",
       "</table>\n",
       "</div>"
      ],
      "text/plain": [
       "   XPos  YPos    Random1    Random2  WellProbability\n",
       "0     0     0  64.010192  87.246352         0.016698\n",
       "1     1     0  70.715952  20.619585         0.471618\n",
       "2     2     0  27.970154  25.118185         0.673057\n",
       "3     0     1  30.790035  83.064406         0.053341\n",
       "4     1     1  91.800314   7.717272         0.531517"
      ]
     },
     "execution_count": 3,
     "metadata": {},
     "output_type": "execute_result"
    }
   ],
   "source": [
    "df_reg = pd.DataFrame()\n",
    "df_reg['XPos'] = [0,1,2,0,1,2,0,1,2]\n",
    "df_reg['YPos'] = [0,0,0,1,1,1,2,2,2]\n",
    "df_reg['Random1'] = np.random.uniform(0, 100, df_cls.shape[0])\n",
    "df_reg['Random2'] = np.random.uniform(0, 100, df_cls.shape[0])\n",
    "\n",
    "df_reg['WellProbability'] = np.random.uniform(0, 1, df_cls.shape[0])\n",
    "df_reg.head()"
   ]
  },
  {
   "cell_type": "markdown",
   "metadata": {},
   "source": [
    "# Data cleaning"
   ]
  },
  {
   "cell_type": "code",
   "execution_count": null,
   "metadata": {},
   "outputs": [],
   "source": []
  },
  {
   "cell_type": "markdown",
   "metadata": {},
   "source": [
    "# Feature Engineering"
   ]
  },
  {
   "cell_type": "code",
   "execution_count": null,
   "metadata": {},
   "outputs": [],
   "source": []
  },
  {
   "cell_type": "markdown",
   "metadata": {},
   "source": [
    "# Save the data"
   ]
  },
  {
   "cell_type": "code",
   "execution_count": 4,
   "metadata": {},
   "outputs": [],
   "source": [
    "df_cls.to_csv('ClassificationData.csv')\n",
    "df_reg.to_csv('RegressionData.csv')"
   ]
  },
  {
   "cell_type": "markdown",
   "metadata": {},
   "source": [
    "# Copy paste features and Labels"
   ]
  },
  {
   "cell_type": "code",
   "execution_count": 5,
   "metadata": {},
   "outputs": [],
   "source": [
    "features = [\n",
    "    'XPos', # propbably dont want these as features\n",
    "    'YPos', # propbably dont want these as features\n",
    "    'Random1',\n",
    "    'Random2'\n",
    "\n",
    "]\n",
    "\n",
    "label_clf = 'WellPresent' \n",
    "label_reg = 'WellProbability'"
   ]
  },
  {
   "cell_type": "markdown",
   "metadata": {},
   "source": [
    "# TODO\n",
    "* Discuss Train/Validation/Test split (arbitrary random or specific say reserving a few wells for each set)??"
   ]
  }
 ],
 "metadata": {
  "kernelspec": {
   "display_name": "Python 3",
   "language": "python",
   "name": "python3"
  },
  "language_info": {
   "codemirror_mode": {
    "name": "ipython",
    "version": 3
   },
   "file_extension": ".py",
   "mimetype": "text/x-python",
   "name": "python",
   "nbconvert_exporter": "python",
   "pygments_lexer": "ipython3",
   "version": "3.6.7"
  }
 },
 "nbformat": 4,
 "nbformat_minor": 2
}
